{
 "cells": [
  {
   "cell_type": "markdown",
   "id": "79e02092",
   "metadata": {},
   "source": [
    "# DS project Group-12\n",
    "    \n",
    "    V.V.S.N.SAI MOHAN (20275) \n",
    "    B.HEMANTH(20215)\n",
    "    M.VISHAL REDDY(20248)\n",
    "    S.MANIKANTA(20268)\n",
    "    B.JAGADANANDA(20217)\n",
    "    K.NAVEEN KUMAR(20238)"
   ]
  },
  {
   "cell_type": "markdown",
   "id": "b97a8472",
   "metadata": {},
   "source": [
    "### About the Dataset"
   ]
  },
  {
   "cell_type": "markdown",
   "id": "da06f369",
   "metadata": {},
   "source": [
    "- The dataset contains date,location where the crime had occured from 2012-2021.\n",
    "- It contains 3 datetime attributes.\n",
    "- It also contains many object data types.\n",
    "- Here 'OFFENSE' is the target variable."
   ]
  },
  {
   "cell_type": "markdown",
   "id": "5dec2198",
   "metadata": {},
   "source": [
    "# Importing all the packages."
   ]
  },
  {
   "cell_type": "code",
   "execution_count": 1,
   "id": "6e107ad1",
   "metadata": {},
   "outputs": [],
   "source": [
    "import numpy as np\n",
    "import pandas as pd\n",
    "import matplotlib.pyplot as plt\n",
    "import seaborn as sb\n",
    "from sklearn.metrics import mean_squared_error\n",
    "from sklearn.metrics import r2_score\n",
    "\n",
    "from statsmodels.stats.outliers_influence import variance_inflation_factor\n",
    "from sklearn.feature_selection import f_regression,SelectKBest\n",
    "from sklearn.ensemble import ExtraTreesRegressor\n",
    "from sklearn.preprocessing import StandardScaler\n",
    "from sklearn.model_selection import train_test_split"
   ]
  },
  {
   "cell_type": "markdown",
   "id": "4eb66045",
   "metadata": {},
   "source": [
    "## Combining all the datasets"
   ]
  },
  {
   "cell_type": "code",
   "execution_count": 2,
   "id": "b5d7982e",
   "metadata": {},
   "outputs": [],
   "source": [
    "df1 = pd.read_csv('Crime_Incidents_in_2012.csv')\n",
    "df2 = pd.read_csv('Crime_Incidents_in_2013.csv')\n",
    "df3 = pd.read_csv('Crime_Incidents_in_2014.csv')\n",
    "df4 = pd.read_csv('Crime_Incidents_in_2015.csv')\n",
    "df5 = pd.read_csv('Crime_Incidents_in_2016.csv')\n",
    "df6 = pd.read_csv('Crime_Incidents_in_2017.csv')\n",
    "df7 = pd.read_csv('Crime_Incidents_in_2018.csv')\n",
    "df8 = pd.read_csv('Crime_Incidents_in_2019.csv')\n",
    "df9 = pd.read_csv('Crime_Incidents_in_2020.csv')\n",
    "df0 = pd.read_csv('Crime_Incidents_in_2021.csv')"
   ]
  },
  {
   "cell_type": "code",
   "execution_count": 3,
   "id": "3066544e",
   "metadata": {},
   "outputs": [],
   "source": [
    "crime=list()\n",
    "crime.append(df1.shape[0])\n",
    "crime.append(df2.shape[0])\n",
    "crime.append(df3.shape[0])\n",
    "crime.append(df4.shape[0])\n",
    "crime.append(df5.shape[0])\n",
    "crime.append(df6.shape[0])\n",
    "crime.append(df7.shape[0])\n",
    "crime.append(df8.shape[0])\n",
    "crime.append(df9.shape[0])\n",
    "crime.append(df0.shape[0])\n",
    "year=[2012,2013,2014,2015,2016,2017,2018,2019,2020,2021]"
   ]
  },
  {
   "cell_type": "code",
   "execution_count": 4,
   "id": "f7ae8063",
   "metadata": {},
   "outputs": [],
   "source": [
    "# COLUMN_NAMES = ['X', 'Y', 'CCN', 'REPORT_DAT', 'SHIFT', 'METHOD', 'OFFENSE', 'BLOCK', 'XBLOCK',\n",
    "#                  'YBLOCK', 'WARD', 'ANC', 'DISTRICT', 'PSA','NEIGHBORHOOD_CLUSTER', 'BLOCK_GROUP', 'CENSUS_TRACT',\n",
    "#                  'VOTING_PRECINCT', 'LATITUDE', 'LONGITUDE', 'BID', 'START_DATE','END_DATE', 'OBJECTID']\n",
    "# df = pd.DataFrame(columns=COLUMN_NAMES)\n",
    "# df =pd.concat([df1,df2, df3,df4,df5,df6,df7,df8,df9,df0],ignore_index =True)"
   ]
  },
  {
   "cell_type": "code",
   "execution_count": 5,
   "id": "6b42aba5",
   "metadata": {},
   "outputs": [],
   "source": [
    "# df.to_csv('data.csv',index=False)"
   ]
  },
  {
   "cell_type": "markdown",
   "id": "49222e3e",
   "metadata": {},
   "source": [
    "## Loading Data Set"
   ]
  },
  {
   "cell_type": "code",
   "execution_count": 6,
   "id": "d5d67338",
   "metadata": {},
   "outputs": [],
   "source": [
    "df=pd.read_csv('data.csv')"
   ]
  },
  {
   "cell_type": "code",
   "execution_count": 7,
   "id": "5d69b406",
   "metadata": {},
   "outputs": [
    {
     "data": {
      "text/plain": [
       "(321671, 25)"
      ]
     },
     "execution_count": 7,
     "metadata": {},
     "output_type": "execute_result"
    }
   ],
   "source": [
    "df.shape"
   ]
  },
  {
   "cell_type": "code",
   "execution_count": 8,
   "id": "29599683",
   "metadata": {},
   "outputs": [
    {
     "data": {
      "text/plain": [
       "Index(['X', 'Y', 'CCN', 'REPORT_DAT', 'SHIFT', 'METHOD', 'OFFENSE', 'BLOCK',\n",
       "       'XBLOCK', 'YBLOCK', 'WARD', 'ANC', 'DISTRICT', 'PSA',\n",
       "       'NEIGHBORHOOD_CLUSTER', 'BLOCK_GROUP', 'CENSUS_TRACT',\n",
       "       'VOTING_PRECINCT', 'LATITUDE', 'LONGITUDE', 'BID', 'START_DATE',\n",
       "       'END_DATE', 'OBJECTID', 'OCTO_RECORD_ID'],\n",
       "      dtype='object')"
      ]
     },
     "execution_count": 8,
     "metadata": {},
     "output_type": "execute_result"
    }
   ],
   "source": [
    "df.columns"
   ]
  },
  {
   "cell_type": "code",
   "execution_count": 9,
   "id": "45e655c6",
   "metadata": {},
   "outputs": [
    {
     "data": {
      "text/html": [
       "<div>\n",
       "<style scoped>\n",
       "    .dataframe tbody tr th:only-of-type {\n",
       "        vertical-align: middle;\n",
       "    }\n",
       "\n",
       "    .dataframe tbody tr th {\n",
       "        vertical-align: top;\n",
       "    }\n",
       "\n",
       "    .dataframe thead th {\n",
       "        text-align: right;\n",
       "    }\n",
       "</style>\n",
       "<table border=\"1\" class=\"dataframe\">\n",
       "  <thead>\n",
       "    <tr style=\"text-align: right;\">\n",
       "      <th></th>\n",
       "      <th>X</th>\n",
       "      <th>Y</th>\n",
       "      <th>CCN</th>\n",
       "      <th>REPORT_DAT</th>\n",
       "      <th>SHIFT</th>\n",
       "      <th>METHOD</th>\n",
       "      <th>OFFENSE</th>\n",
       "      <th>BLOCK</th>\n",
       "      <th>XBLOCK</th>\n",
       "      <th>YBLOCK</th>\n",
       "      <th>...</th>\n",
       "      <th>BLOCK_GROUP</th>\n",
       "      <th>CENSUS_TRACT</th>\n",
       "      <th>VOTING_PRECINCT</th>\n",
       "      <th>LATITUDE</th>\n",
       "      <th>LONGITUDE</th>\n",
       "      <th>BID</th>\n",
       "      <th>START_DATE</th>\n",
       "      <th>END_DATE</th>\n",
       "      <th>OBJECTID</th>\n",
       "      <th>OCTO_RECORD_ID</th>\n",
       "    </tr>\n",
       "  </thead>\n",
       "  <tbody>\n",
       "    <tr>\n",
       "      <th>0</th>\n",
       "      <td>-76.999518</td>\n",
       "      <td>38.901924</td>\n",
       "      <td>9074624</td>\n",
       "      <td>2012-04-25T00:00:00.000Z</td>\n",
       "      <td>MIDNIGHT</td>\n",
       "      <td>OTHERS</td>\n",
       "      <td>SEX ABUSE</td>\n",
       "      <td>900 - 999 BLOCK OF 5TH STREET NE</td>\n",
       "      <td>400042.0</td>\n",
       "      <td>137118.0</td>\n",
       "      <td>...</td>\n",
       "      <td>010600 2</td>\n",
       "      <td>10600.0</td>\n",
       "      <td>Precinct 83</td>\n",
       "      <td>38.901916</td>\n",
       "      <td>-76.999516</td>\n",
       "      <td>NaN</td>\n",
       "      <td>2009-05-31T23:00:00.000Z</td>\n",
       "      <td>2009-06-01T06:00:00.000Z</td>\n",
       "      <td>167253019</td>\n",
       "      <td>NaN</td>\n",
       "    </tr>\n",
       "    <tr>\n",
       "      <th>1</th>\n",
       "      <td>-76.995541</td>\n",
       "      <td>38.905032</td>\n",
       "      <td>10123633</td>\n",
       "      <td>2012-02-29T00:00:00.000Z</td>\n",
       "      <td>MIDNIGHT</td>\n",
       "      <td>OTHERS</td>\n",
       "      <td>SEX ABUSE</td>\n",
       "      <td>700 - 799 BLOCK OF FLORIDA AVENUE NE</td>\n",
       "      <td>400387.0</td>\n",
       "      <td>137463.0</td>\n",
       "      <td>...</td>\n",
       "      <td>010600 1</td>\n",
       "      <td>10600.0</td>\n",
       "      <td>Precinct 83</td>\n",
       "      <td>38.905024</td>\n",
       "      <td>-76.995538</td>\n",
       "      <td>NaN</td>\n",
       "      <td>2010-08-27T02:30:00.000Z</td>\n",
       "      <td>2010-08-27T07:15:00.000Z</td>\n",
       "      <td>167274031</td>\n",
       "      <td>NaN</td>\n",
       "    </tr>\n",
       "    <tr>\n",
       "      <th>2</th>\n",
       "      <td>-76.948897</td>\n",
       "      <td>38.885680</td>\n",
       "      <td>11102619</td>\n",
       "      <td>2012-05-14T00:00:00.000Z</td>\n",
       "      <td>MIDNIGHT</td>\n",
       "      <td>GUN</td>\n",
       "      <td>HOMICIDE</td>\n",
       "      <td>153 - 399 BLOCK OF RIDGE ROAD SE</td>\n",
       "      <td>404434.0</td>\n",
       "      <td>135316.0</td>\n",
       "      <td>...</td>\n",
       "      <td>007703 3</td>\n",
       "      <td>7703.0</td>\n",
       "      <td>Precinct 107</td>\n",
       "      <td>38.885672</td>\n",
       "      <td>-76.948894</td>\n",
       "      <td>NaN</td>\n",
       "      <td>2011-07-17T02:28:00.000Z</td>\n",
       "      <td>NaN</td>\n",
       "      <td>167293017</td>\n",
       "      <td>NaN</td>\n",
       "    </tr>\n",
       "  </tbody>\n",
       "</table>\n",
       "<p>3 rows × 25 columns</p>\n",
       "</div>"
      ],
      "text/plain": [
       "           X          Y       CCN                REPORT_DAT     SHIFT  METHOD  \\\n",
       "0 -76.999518  38.901924   9074624  2012-04-25T00:00:00.000Z  MIDNIGHT  OTHERS   \n",
       "1 -76.995541  38.905032  10123633  2012-02-29T00:00:00.000Z  MIDNIGHT  OTHERS   \n",
       "2 -76.948897  38.885680  11102619  2012-05-14T00:00:00.000Z  MIDNIGHT     GUN   \n",
       "\n",
       "     OFFENSE                                 BLOCK    XBLOCK    YBLOCK  ...  \\\n",
       "0  SEX ABUSE      900 - 999 BLOCK OF 5TH STREET NE  400042.0  137118.0  ...   \n",
       "1  SEX ABUSE  700 - 799 BLOCK OF FLORIDA AVENUE NE  400387.0  137463.0  ...   \n",
       "2   HOMICIDE      153 - 399 BLOCK OF RIDGE ROAD SE  404434.0  135316.0  ...   \n",
       "\n",
       "   BLOCK_GROUP CENSUS_TRACT  VOTING_PRECINCT   LATITUDE  LONGITUDE  BID  \\\n",
       "0     010600 2      10600.0      Precinct 83  38.901916 -76.999516  NaN   \n",
       "1     010600 1      10600.0      Precinct 83  38.905024 -76.995538  NaN   \n",
       "2     007703 3       7703.0     Precinct 107  38.885672 -76.948894  NaN   \n",
       "\n",
       "                 START_DATE                  END_DATE   OBJECTID  \\\n",
       "0  2009-05-31T23:00:00.000Z  2009-06-01T06:00:00.000Z  167253019   \n",
       "1  2010-08-27T02:30:00.000Z  2010-08-27T07:15:00.000Z  167274031   \n",
       "2  2011-07-17T02:28:00.000Z                       NaN  167293017   \n",
       "\n",
       "   OCTO_RECORD_ID  \n",
       "0             NaN  \n",
       "1             NaN  \n",
       "2             NaN  \n",
       "\n",
       "[3 rows x 25 columns]"
      ]
     },
     "execution_count": 9,
     "metadata": {},
     "output_type": "execute_result"
    }
   ],
   "source": [
    "df.head(3)"
   ]
  },
  {
   "cell_type": "code",
   "execution_count": 10,
   "id": "a7b80e3f",
   "metadata": {
    "scrolled": true
   },
   "outputs": [
    {
     "name": "stdout",
     "output_type": "stream",
     "text": [
      "<class 'pandas.core.frame.DataFrame'>\n",
      "RangeIndex: 321671 entries, 0 to 321670\n",
      "Data columns (total 25 columns):\n",
      " #   Column                Non-Null Count   Dtype  \n",
      "---  ------                --------------   -----  \n",
      " 0   X                     321671 non-null  float64\n",
      " 1   Y                     321671 non-null  float64\n",
      " 2   CCN                   321671 non-null  int64  \n",
      " 3   REPORT_DAT            321671 non-null  object \n",
      " 4   SHIFT                 321671 non-null  object \n",
      " 5   METHOD                321671 non-null  object \n",
      " 6   OFFENSE               321671 non-null  object \n",
      " 7   BLOCK                 321671 non-null  object \n",
      " 8   XBLOCK                321671 non-null  float64\n",
      " 9   YBLOCK                321671 non-null  float64\n",
      " 10  WARD                  321663 non-null  float64\n",
      " 11  ANC                   321671 non-null  object \n",
      " 12  DISTRICT              321304 non-null  float64\n",
      " 13  PSA                   321279 non-null  float64\n",
      " 14  NEIGHBORHOOD_CLUSTER  318828 non-null  object \n",
      " 15  BLOCK_GROUP           320991 non-null  object \n",
      " 16  CENSUS_TRACT          320991 non-null  float64\n",
      " 17  VOTING_PRECINCT       321624 non-null  object \n",
      " 18  LATITUDE              321671 non-null  float64\n",
      " 19  LONGITUDE             321671 non-null  float64\n",
      " 20  BID                   55162 non-null   object \n",
      " 21  START_DATE            321665 non-null  object \n",
      " 22  END_DATE              305498 non-null  object \n",
      " 23  OBJECTID              321671 non-null  int64  \n",
      " 24  OCTO_RECORD_ID        0 non-null       float64\n",
      "dtypes: float64(11), int64(2), object(12)\n",
      "memory usage: 61.4+ MB\n"
     ]
    }
   ],
   "source": [
    "df.info()"
   ]
  },
  {
   "cell_type": "markdown",
   "id": "d924b2b0",
   "metadata": {},
   "source": [
    "# Data Pre-Prosessing"
   ]
  },
  {
   "cell_type": "markdown",
   "id": "9651c7d6",
   "metadata": {},
   "source": [
    "> ## **DUPLICATE AND MISSING VALUES**"
   ]
  },
  {
   "cell_type": "code",
   "execution_count": 11,
   "id": "f8a25dec",
   "metadata": {},
   "outputs": [
    {
     "data": {
      "text/plain": [
       "0"
      ]
     },
     "execution_count": 11,
     "metadata": {},
     "output_type": "execute_result"
    }
   ],
   "source": [
    "df.duplicated().sum()"
   ]
  },
  {
   "cell_type": "code",
   "execution_count": 12,
   "id": "691a1668",
   "metadata": {
    "scrolled": true
   },
   "outputs": [
    {
     "data": {
      "text/plain": [
       "X                            0\n",
       "Y                            0\n",
       "CCN                          0\n",
       "REPORT_DAT                   0\n",
       "SHIFT                        0\n",
       "METHOD                       0\n",
       "OFFENSE                      0\n",
       "BLOCK                        0\n",
       "XBLOCK                       0\n",
       "YBLOCK                       0\n",
       "WARD                         8\n",
       "ANC                          0\n",
       "DISTRICT                   367\n",
       "PSA                        392\n",
       "NEIGHBORHOOD_CLUSTER      2843\n",
       "BLOCK_GROUP                680\n",
       "CENSUS_TRACT               680\n",
       "VOTING_PRECINCT             47\n",
       "LATITUDE                     0\n",
       "LONGITUDE                    0\n",
       "BID                     266509\n",
       "START_DATE                   6\n",
       "END_DATE                 16173\n",
       "OBJECTID                     0\n",
       "OCTO_RECORD_ID          321671\n",
       "dtype: int64"
      ]
     },
     "execution_count": 12,
     "metadata": {},
     "output_type": "execute_result"
    }
   ],
   "source": [
    "df.isnull().sum()"
   ]
  },
  {
   "cell_type": "code",
   "execution_count": 13,
   "id": "7587119e",
   "metadata": {},
   "outputs": [],
   "source": [
    "df.drop(['BID'],axis=1,inplace=True)\n",
    "# having more than 75% null values"
   ]
  },
  {
   "cell_type": "code",
   "execution_count": 14,
   "id": "a11c47f0",
   "metadata": {},
   "outputs": [
    {
     "data": {
      "text/plain": [
       "(321671, 24)"
      ]
     },
     "execution_count": 14,
     "metadata": {},
     "output_type": "execute_result"
    }
   ],
   "source": [
    "df.shape"
   ]
  },
  {
   "cell_type": "code",
   "execution_count": 15,
   "id": "9cb606de",
   "metadata": {},
   "outputs": [
    {
     "data": {
      "text/plain": [
       "X                            0\n",
       "Y                            0\n",
       "CCN                          0\n",
       "REPORT_DAT                   0\n",
       "SHIFT                        0\n",
       "METHOD                       0\n",
       "OFFENSE                      0\n",
       "BLOCK                        0\n",
       "XBLOCK                       0\n",
       "YBLOCK                       0\n",
       "WARD                         8\n",
       "ANC                          0\n",
       "DISTRICT                   367\n",
       "PSA                        392\n",
       "NEIGHBORHOOD_CLUSTER      2843\n",
       "BLOCK_GROUP                680\n",
       "CENSUS_TRACT               680\n",
       "VOTING_PRECINCT             47\n",
       "LATITUDE                     0\n",
       "LONGITUDE                    0\n",
       "START_DATE                   6\n",
       "END_DATE                 16173\n",
       "OBJECTID                     0\n",
       "OCTO_RECORD_ID          321671\n",
       "dtype: int64"
      ]
     },
     "execution_count": 15,
     "metadata": {},
     "output_type": "execute_result"
    }
   ],
   "source": [
    "df.isnull().sum()"
   ]
  },
  {
   "cell_type": "markdown",
   "id": "09117300",
   "metadata": {},
   "source": [
    "> Dropping the null valued rows"
   ]
  },
  {
   "cell_type": "code",
   "execution_count": 16,
   "id": "79ad8c4c",
   "metadata": {},
   "outputs": [],
   "source": [
    "df.dropna(subset=['WARD','DISTRICT','PSA','NEIGHBORHOOD_CLUSTER','BLOCK_GROUP','CENSUS_TRACT','VOTING_PRECINCT','START_DATE','END_DATE'],how='any',inplace=True)"
   ]
  },
  {
   "cell_type": "code",
   "execution_count": 17,
   "id": "54dfa4f0",
   "metadata": {},
   "outputs": [
    {
     "data": {
      "text/plain": [
       "X                            0\n",
       "Y                            0\n",
       "CCN                          0\n",
       "REPORT_DAT                   0\n",
       "SHIFT                        0\n",
       "METHOD                       0\n",
       "OFFENSE                      0\n",
       "BLOCK                        0\n",
       "XBLOCK                       0\n",
       "YBLOCK                       0\n",
       "WARD                         0\n",
       "ANC                          0\n",
       "DISTRICT                     0\n",
       "PSA                          0\n",
       "NEIGHBORHOOD_CLUSTER         0\n",
       "BLOCK_GROUP                  0\n",
       "CENSUS_TRACT                 0\n",
       "VOTING_PRECINCT              0\n",
       "LATITUDE                     0\n",
       "LONGITUDE                    0\n",
       "START_DATE                   0\n",
       "END_DATE                     0\n",
       "OBJECTID                     0\n",
       "OCTO_RECORD_ID          301656\n",
       "dtype: int64"
      ]
     },
     "execution_count": 17,
     "metadata": {},
     "output_type": "execute_result"
    }
   ],
   "source": [
    "df.isnull().sum()"
   ]
  },
  {
   "cell_type": "code",
   "execution_count": 18,
   "id": "10ba7ea5",
   "metadata": {},
   "outputs": [
    {
     "data": {
      "text/plain": [
       "(301656, 24)"
      ]
     },
     "execution_count": 18,
     "metadata": {},
     "output_type": "execute_result"
    }
   ],
   "source": [
    "df.shape"
   ]
  },
  {
   "cell_type": "code",
   "execution_count": 19,
   "id": "cd6495dd",
   "metadata": {},
   "outputs": [
    {
     "data": {
      "text/plain": [
       "0     Precinct 83\n",
       "1     Precinct 83\n",
       "3    Precinct 134\n",
       "4     Precinct 92\n",
       "5      Precinct 5\n",
       "Name: VOTING_PRECINCT, dtype: object"
      ]
     },
     "execution_count": 19,
     "metadata": {},
     "output_type": "execute_result"
    }
   ],
   "source": [
    "df['VOTING_PRECINCT'].head()"
   ]
  },
  {
   "cell_type": "code",
   "execution_count": 20,
   "id": "559bbc1a",
   "metadata": {},
   "outputs": [
    {
     "data": {
      "text/plain": [
       "0    Cluster 25\n",
       "1    Cluster 25\n",
       "3    Cluster 36\n",
       "4    Cluster 29\n",
       "5     Cluster 4\n",
       "Name: NEIGHBORHOOD_CLUSTER, dtype: object"
      ]
     },
     "execution_count": 20,
     "metadata": {},
     "output_type": "execute_result"
    }
   ],
   "source": [
    "df['NEIGHBORHOOD_CLUSTER'].head()"
   ]
  },
  {
   "cell_type": "markdown",
   "id": "704b5dd4",
   "metadata": {},
   "source": [
    "> ### Removing \"Precinct\" and \"Cluster\" from each record of VOTIING_PRECINCT and NEIGHBORHOOD_CLUSTER.."
   ]
  },
  {
   "cell_type": "code",
   "execution_count": 21,
   "id": "e3455531",
   "metadata": {},
   "outputs": [],
   "source": [
    "df['VOTING_PRECINCT']=df['VOTING_PRECINCT'].str.replace('Precinct ','').astype(int)"
   ]
  },
  {
   "cell_type": "code",
   "execution_count": 22,
   "id": "6e606c25",
   "metadata": {},
   "outputs": [],
   "source": [
    "df['NEIGHBORHOOD_CLUSTER']=df['NEIGHBORHOOD_CLUSTER'].str.replace('Cluster ','').astype(int)"
   ]
  },
  {
   "cell_type": "code",
   "execution_count": 23,
   "id": "eacbf44d",
   "metadata": {},
   "outputs": [
    {
     "data": {
      "text/plain": [
       "0     83\n",
       "1     83\n",
       "3    134\n",
       "4     92\n",
       "5      5\n",
       "Name: VOTING_PRECINCT, dtype: int32"
      ]
     },
     "execution_count": 23,
     "metadata": {},
     "output_type": "execute_result"
    }
   ],
   "source": [
    "df['VOTING_PRECINCT'].head()"
   ]
  },
  {
   "cell_type": "code",
   "execution_count": 24,
   "id": "2ab56656",
   "metadata": {
    "scrolled": false
   },
   "outputs": [
    {
     "data": {
      "text/plain": [
       "0    25\n",
       "1    25\n",
       "3    36\n",
       "4    29\n",
       "5     4\n",
       "Name: NEIGHBORHOOD_CLUSTER, dtype: int32"
      ]
     },
     "execution_count": 24,
     "metadata": {},
     "output_type": "execute_result"
    }
   ],
   "source": [
    "df['NEIGHBORHOOD_CLUSTER'].head()"
   ]
  },
  {
   "cell_type": "markdown",
   "id": "10d3cc94",
   "metadata": {},
   "source": [
    "> ### Values in column X and Y is same as that of the column LATITUDE and LONGITUDE. So we can remove X and Y."
   ]
  },
  {
   "cell_type": "code",
   "execution_count": 25,
   "id": "e42cd5b2",
   "metadata": {},
   "outputs": [],
   "source": [
    "df.drop(['X','Y'],axis=1,inplace=True)"
   ]
  },
  {
   "cell_type": "code",
   "execution_count": 26,
   "id": "18e7faf0",
   "metadata": {},
   "outputs": [
    {
     "data": {
      "text/html": [
       "<div>\n",
       "<style scoped>\n",
       "    .dataframe tbody tr th:only-of-type {\n",
       "        vertical-align: middle;\n",
       "    }\n",
       "\n",
       "    .dataframe tbody tr th {\n",
       "        vertical-align: top;\n",
       "    }\n",
       "\n",
       "    .dataframe thead th {\n",
       "        text-align: right;\n",
       "    }\n",
       "</style>\n",
       "<table border=\"1\" class=\"dataframe\">\n",
       "  <thead>\n",
       "    <tr style=\"text-align: right;\">\n",
       "      <th></th>\n",
       "      <th>CCN</th>\n",
       "      <th>REPORT_DAT</th>\n",
       "      <th>SHIFT</th>\n",
       "      <th>METHOD</th>\n",
       "      <th>OFFENSE</th>\n",
       "      <th>BLOCK</th>\n",
       "      <th>XBLOCK</th>\n",
       "      <th>YBLOCK</th>\n",
       "      <th>WARD</th>\n",
       "      <th>ANC</th>\n",
       "      <th>...</th>\n",
       "      <th>NEIGHBORHOOD_CLUSTER</th>\n",
       "      <th>BLOCK_GROUP</th>\n",
       "      <th>CENSUS_TRACT</th>\n",
       "      <th>VOTING_PRECINCT</th>\n",
       "      <th>LATITUDE</th>\n",
       "      <th>LONGITUDE</th>\n",
       "      <th>START_DATE</th>\n",
       "      <th>END_DATE</th>\n",
       "      <th>OBJECTID</th>\n",
       "      <th>OCTO_RECORD_ID</th>\n",
       "    </tr>\n",
       "  </thead>\n",
       "  <tbody>\n",
       "    <tr>\n",
       "      <th>0</th>\n",
       "      <td>9074624</td>\n",
       "      <td>2012-04-25T00:00:00.000Z</td>\n",
       "      <td>MIDNIGHT</td>\n",
       "      <td>OTHERS</td>\n",
       "      <td>SEX ABUSE</td>\n",
       "      <td>900 - 999 BLOCK OF 5TH STREET NE</td>\n",
       "      <td>400042.0</td>\n",
       "      <td>137118.0</td>\n",
       "      <td>6.0</td>\n",
       "      <td>6C</td>\n",
       "      <td>...</td>\n",
       "      <td>25</td>\n",
       "      <td>010600 2</td>\n",
       "      <td>10600.0</td>\n",
       "      <td>83</td>\n",
       "      <td>38.901916</td>\n",
       "      <td>-76.999516</td>\n",
       "      <td>2009-05-31T23:00:00.000Z</td>\n",
       "      <td>2009-06-01T06:00:00.000Z</td>\n",
       "      <td>167253019</td>\n",
       "      <td>NaN</td>\n",
       "    </tr>\n",
       "    <tr>\n",
       "      <th>1</th>\n",
       "      <td>10123633</td>\n",
       "      <td>2012-02-29T00:00:00.000Z</td>\n",
       "      <td>MIDNIGHT</td>\n",
       "      <td>OTHERS</td>\n",
       "      <td>SEX ABUSE</td>\n",
       "      <td>700 - 799 BLOCK OF FLORIDA AVENUE NE</td>\n",
       "      <td>400387.0</td>\n",
       "      <td>137463.0</td>\n",
       "      <td>6.0</td>\n",
       "      <td>6C</td>\n",
       "      <td>...</td>\n",
       "      <td>25</td>\n",
       "      <td>010600 1</td>\n",
       "      <td>10600.0</td>\n",
       "      <td>83</td>\n",
       "      <td>38.905024</td>\n",
       "      <td>-76.995538</td>\n",
       "      <td>2010-08-27T02:30:00.000Z</td>\n",
       "      <td>2010-08-27T07:15:00.000Z</td>\n",
       "      <td>167274031</td>\n",
       "      <td>NaN</td>\n",
       "    </tr>\n",
       "    <tr>\n",
       "      <th>3</th>\n",
       "      <td>11141272</td>\n",
       "      <td>2012-06-25T00:00:00.000Z</td>\n",
       "      <td>MIDNIGHT</td>\n",
       "      <td>OTHERS</td>\n",
       "      <td>HOMICIDE</td>\n",
       "      <td>2800 - 2899 BLOCK OF BUENA VISTA TERRACE SE</td>\n",
       "      <td>402815.0</td>\n",
       "      <td>131990.0</td>\n",
       "      <td>8.0</td>\n",
       "      <td>8B</td>\n",
       "      <td>...</td>\n",
       "      <td>36</td>\n",
       "      <td>007502 2</td>\n",
       "      <td>7502.0</td>\n",
       "      <td>134</td>\n",
       "      <td>38.855717</td>\n",
       "      <td>-76.967568</td>\n",
       "      <td>2011-09-26T06:45:00.000Z</td>\n",
       "      <td>2011-09-26T06:55:00.000Z</td>\n",
       "      <td>167296016</td>\n",
       "      <td>NaN</td>\n",
       "    </tr>\n",
       "    <tr>\n",
       "      <th>4</th>\n",
       "      <td>11158196</td>\n",
       "      <td>2012-01-05T00:00:00.000Z</td>\n",
       "      <td>MIDNIGHT</td>\n",
       "      <td>OTHERS</td>\n",
       "      <td>HOMICIDE</td>\n",
       "      <td>4280 - 4499 BLOCK OF DOUGLAS STREET NE</td>\n",
       "      <td>405237.0</td>\n",
       "      <td>138096.0</td>\n",
       "      <td>7.0</td>\n",
       "      <td>7D</td>\n",
       "      <td>...</td>\n",
       "      <td>29</td>\n",
       "      <td>009601 1</td>\n",
       "      <td>9601.0</td>\n",
       "      <td>92</td>\n",
       "      <td>38.910711</td>\n",
       "      <td>-76.939618</td>\n",
       "      <td>2011-10-27T18:35:00.000Z</td>\n",
       "      <td>2011-10-27T00:00:00.000Z</td>\n",
       "      <td>167299077</td>\n",
       "      <td>NaN</td>\n",
       "    </tr>\n",
       "    <tr>\n",
       "      <th>5</th>\n",
       "      <td>12005414</td>\n",
       "      <td>2012-01-11T18:52:00.000Z</td>\n",
       "      <td>EVENING</td>\n",
       "      <td>OTHERS</td>\n",
       "      <td>THEFT/OTHER</td>\n",
       "      <td>1500 - 1599 BLOCK OF 32ND STREET NW</td>\n",
       "      <td>394480.0</td>\n",
       "      <td>138000.0</td>\n",
       "      <td>2.0</td>\n",
       "      <td>2E</td>\n",
       "      <td>...</td>\n",
       "      <td>4</td>\n",
       "      <td>000100 3</td>\n",
       "      <td>100.0</td>\n",
       "      <td>5</td>\n",
       "      <td>38.909844</td>\n",
       "      <td>-77.063644</td>\n",
       "      <td>2012-01-11T13:00:00.000Z</td>\n",
       "      <td>2012-01-11T13:46:00.000Z</td>\n",
       "      <td>167301753</td>\n",
       "      <td>NaN</td>\n",
       "    </tr>\n",
       "  </tbody>\n",
       "</table>\n",
       "<p>5 rows × 22 columns</p>\n",
       "</div>"
      ],
      "text/plain": [
       "        CCN                REPORT_DAT     SHIFT  METHOD      OFFENSE  \\\n",
       "0   9074624  2012-04-25T00:00:00.000Z  MIDNIGHT  OTHERS    SEX ABUSE   \n",
       "1  10123633  2012-02-29T00:00:00.000Z  MIDNIGHT  OTHERS    SEX ABUSE   \n",
       "3  11141272  2012-06-25T00:00:00.000Z  MIDNIGHT  OTHERS     HOMICIDE   \n",
       "4  11158196  2012-01-05T00:00:00.000Z  MIDNIGHT  OTHERS     HOMICIDE   \n",
       "5  12005414  2012-01-11T18:52:00.000Z   EVENING  OTHERS  THEFT/OTHER   \n",
       "\n",
       "                                         BLOCK    XBLOCK    YBLOCK  WARD ANC  \\\n",
       "0             900 - 999 BLOCK OF 5TH STREET NE  400042.0  137118.0   6.0  6C   \n",
       "1         700 - 799 BLOCK OF FLORIDA AVENUE NE  400387.0  137463.0   6.0  6C   \n",
       "3  2800 - 2899 BLOCK OF BUENA VISTA TERRACE SE  402815.0  131990.0   8.0  8B   \n",
       "4       4280 - 4499 BLOCK OF DOUGLAS STREET NE  405237.0  138096.0   7.0  7D   \n",
       "5          1500 - 1599 BLOCK OF 32ND STREET NW  394480.0  138000.0   2.0  2E   \n",
       "\n",
       "   ...  NEIGHBORHOOD_CLUSTER  BLOCK_GROUP  CENSUS_TRACT VOTING_PRECINCT  \\\n",
       "0  ...                    25     010600 2       10600.0              83   \n",
       "1  ...                    25     010600 1       10600.0              83   \n",
       "3  ...                    36     007502 2        7502.0             134   \n",
       "4  ...                    29     009601 1        9601.0              92   \n",
       "5  ...                     4     000100 3         100.0               5   \n",
       "\n",
       "    LATITUDE  LONGITUDE                START_DATE                  END_DATE  \\\n",
       "0  38.901916 -76.999516  2009-05-31T23:00:00.000Z  2009-06-01T06:00:00.000Z   \n",
       "1  38.905024 -76.995538  2010-08-27T02:30:00.000Z  2010-08-27T07:15:00.000Z   \n",
       "3  38.855717 -76.967568  2011-09-26T06:45:00.000Z  2011-09-26T06:55:00.000Z   \n",
       "4  38.910711 -76.939618  2011-10-27T18:35:00.000Z  2011-10-27T00:00:00.000Z   \n",
       "5  38.909844 -77.063644  2012-01-11T13:00:00.000Z  2012-01-11T13:46:00.000Z   \n",
       "\n",
       "    OBJECTID OCTO_RECORD_ID  \n",
       "0  167253019            NaN  \n",
       "1  167274031            NaN  \n",
       "3  167296016            NaN  \n",
       "4  167299077            NaN  \n",
       "5  167301753            NaN  \n",
       "\n",
       "[5 rows x 22 columns]"
      ]
     },
     "execution_count": 26,
     "metadata": {},
     "output_type": "execute_result"
    }
   ],
   "source": [
    "df.head()"
   ]
  },
  {
   "cell_type": "markdown",
   "id": "1de08ef6",
   "metadata": {},
   "source": [
    "> ### Also dates are represented as object type, it should be converted into datetime datatype."
   ]
  },
  {
   "cell_type": "code",
   "execution_count": 27,
   "id": "0bcdf276",
   "metadata": {},
   "outputs": [],
   "source": [
    "df['START_DATE']=pd.to_datetime(df['START_DATE'])"
   ]
  },
  {
   "cell_type": "code",
   "execution_count": 28,
   "id": "4dbff297",
   "metadata": {},
   "outputs": [],
   "source": [
    "df['END_DATE']=pd.to_datetime(df['END_DATE'])"
   ]
  },
  {
   "cell_type": "code",
   "execution_count": 29,
   "id": "21a43d0e",
   "metadata": {},
   "outputs": [],
   "source": [
    "df['REPORT_DAT']=pd.to_datetime(df['REPORT_DAT'])"
   ]
  },
  {
   "cell_type": "markdown",
   "id": "f8ba4987",
   "metadata": {},
   "source": [
    "> ### About target variable"
   ]
  },
  {
   "cell_type": "code",
   "execution_count": 30,
   "id": "aad7e521",
   "metadata": {},
   "outputs": [
    {
     "data": {
      "text/plain": [
       "array(['SEX ABUSE', 'HOMICIDE', 'THEFT/OTHER',\n",
       "       'ASSAULT W/DANGEROUS WEAPON', 'ROBBERY', 'THEFT F/AUTO',\n",
       "       'MOTOR VEHICLE THEFT', 'BURGLARY', 'ARSON'], dtype=object)"
      ]
     },
     "execution_count": 30,
     "metadata": {},
     "output_type": "execute_result"
    }
   ],
   "source": [
    "df['OFFENSE'].unique()"
   ]
  },
  {
   "cell_type": "code",
   "execution_count": 31,
   "id": "c414a661",
   "metadata": {},
   "outputs": [],
   "source": [
    "# Import label encoder\n",
    "from sklearn import preprocessing as pp\n",
    "\n",
    "offense_encoder = pp.LabelEncoder()\n",
    "df['OFFENSE']=offense_encoder.fit_transform(df['OFFENSE'])"
   ]
  },
  {
   "cell_type": "code",
   "execution_count": 32,
   "id": "9ce821fa",
   "metadata": {
    "scrolled": true
   },
   "outputs": [
    {
     "data": {
      "text/plain": [
       "0    6\n",
       "1    6\n",
       "3    3\n",
       "4    3\n",
       "5    8\n",
       "Name: OFFENSE, dtype: int32"
      ]
     },
     "execution_count": 32,
     "metadata": {},
     "output_type": "execute_result"
    }
   ],
   "source": [
    "df['OFFENSE'].head()"
   ]
  },
  {
   "cell_type": "code",
   "execution_count": 33,
   "id": "9e3e5314",
   "metadata": {
    "collapsed": true
   },
   "outputs": [
    {
     "data": {
      "text/plain": [
       "array([3, 1, 2, 0])"
      ]
     },
     "execution_count": 33,
     "metadata": {},
     "output_type": "execute_result"
    }
   ],
   "source": [
    "# df=df[df.OFFENSE!=4]\n",
    "# df=df[df.OFFENSE!=5]\n",
    "# df=df[df.OFFENSE!=6]\n",
    "# df=df[df.OFFENSE!=7]\n",
    "# df=df[df.OFFENSE!=8]\n",
    "# df['OFFENSE'].unique()"
   ]
  },
  {
   "cell_type": "markdown",
   "id": "568664f0",
   "metadata": {},
   "source": [
    "> ### Same like that convert BLOCK,ANC columns to int32"
   ]
  },
  {
   "cell_type": "code",
   "execution_count": 35,
   "id": "169fcdc3",
   "metadata": {},
   "outputs": [
    {
     "data": {
      "text/plain": [
       "8475"
      ]
     },
     "execution_count": 35,
     "metadata": {},
     "output_type": "execute_result"
    }
   ],
   "source": [
    "df['BLOCK'].unique().size"
   ]
  },
  {
   "cell_type": "code",
   "execution_count": 36,
   "id": "0dd099c8",
   "metadata": {},
   "outputs": [],
   "source": [
    "block_encoder = pp.LabelEncoder()\n",
    "df['BLOCK']=block_encoder.fit_transform(df['BLOCK'])\n",
    "\n",
    "anc_encoder = pp.LabelEncoder()\n",
    "df['ANC']=anc_encoder.fit_transform(df['ANC'])"
   ]
  },
  {
   "cell_type": "code",
   "execution_count": 37,
   "id": "7da5b380",
   "metadata": {},
   "outputs": [
    {
     "data": {
      "text/plain": [
       "3     3735\n",
       "4     5578\n",
       "6     5059\n",
       "19     693\n",
       "28     877\n",
       "Name: BLOCK, dtype: int32"
      ]
     },
     "execution_count": 37,
     "metadata": {},
     "output_type": "execute_result"
    }
   ],
   "source": [
    "df['BLOCK'].head()"
   ]
  },
  {
   "cell_type": "code",
   "execution_count": 38,
   "id": "a8d08cf6",
   "metadata": {},
   "outputs": [
    {
     "data": {
      "text/plain": [
       "3     36\n",
       "4     32\n",
       "6     34\n",
       "19    23\n",
       "28    23\n",
       "Name: ANC, dtype: int32"
      ]
     },
     "execution_count": 38,
     "metadata": {},
     "output_type": "execute_result"
    }
   ],
   "source": [
    "df['ANC'].head()"
   ]
  },
  {
   "cell_type": "code",
   "execution_count": 39,
   "id": "cc6cfe97",
   "metadata": {},
   "outputs": [
    {
     "data": {
      "text/html": [
       "<div>\n",
       "<style scoped>\n",
       "    .dataframe tbody tr th:only-of-type {\n",
       "        vertical-align: middle;\n",
       "    }\n",
       "\n",
       "    .dataframe tbody tr th {\n",
       "        vertical-align: top;\n",
       "    }\n",
       "\n",
       "    .dataframe thead th {\n",
       "        text-align: right;\n",
       "    }\n",
       "</style>\n",
       "<table border=\"1\" class=\"dataframe\">\n",
       "  <thead>\n",
       "    <tr style=\"text-align: right;\">\n",
       "      <th></th>\n",
       "      <th>CCN</th>\n",
       "      <th>REPORT_DAT</th>\n",
       "      <th>SHIFT</th>\n",
       "      <th>METHOD</th>\n",
       "      <th>OFFENSE</th>\n",
       "      <th>BLOCK</th>\n",
       "      <th>XBLOCK</th>\n",
       "      <th>YBLOCK</th>\n",
       "      <th>WARD</th>\n",
       "      <th>ANC</th>\n",
       "      <th>...</th>\n",
       "      <th>NEIGHBORHOOD_CLUSTER</th>\n",
       "      <th>BLOCK_GROUP</th>\n",
       "      <th>CENSUS_TRACT</th>\n",
       "      <th>VOTING_PRECINCT</th>\n",
       "      <th>LATITUDE</th>\n",
       "      <th>LONGITUDE</th>\n",
       "      <th>START_DATE</th>\n",
       "      <th>END_DATE</th>\n",
       "      <th>OBJECTID</th>\n",
       "      <th>OCTO_RECORD_ID</th>\n",
       "    </tr>\n",
       "  </thead>\n",
       "  <tbody>\n",
       "    <tr>\n",
       "      <th>3</th>\n",
       "      <td>11141272</td>\n",
       "      <td>2012-06-25 00:00:00+00:00</td>\n",
       "      <td>MIDNIGHT</td>\n",
       "      <td>OTHERS</td>\n",
       "      <td>3</td>\n",
       "      <td>3735</td>\n",
       "      <td>402815.0</td>\n",
       "      <td>131990.0</td>\n",
       "      <td>8.0</td>\n",
       "      <td>36</td>\n",
       "      <td>...</td>\n",
       "      <td>36</td>\n",
       "      <td>007502 2</td>\n",
       "      <td>7502.0</td>\n",
       "      <td>134</td>\n",
       "      <td>38.855717</td>\n",
       "      <td>-76.967568</td>\n",
       "      <td>2011-09-26 06:45:00+00:00</td>\n",
       "      <td>2011-09-26 06:55:00+00:00</td>\n",
       "      <td>167296016</td>\n",
       "      <td>NaN</td>\n",
       "    </tr>\n",
       "    <tr>\n",
       "      <th>4</th>\n",
       "      <td>11158196</td>\n",
       "      <td>2012-01-05 00:00:00+00:00</td>\n",
       "      <td>MIDNIGHT</td>\n",
       "      <td>OTHERS</td>\n",
       "      <td>3</td>\n",
       "      <td>5578</td>\n",
       "      <td>405237.0</td>\n",
       "      <td>138096.0</td>\n",
       "      <td>7.0</td>\n",
       "      <td>32</td>\n",
       "      <td>...</td>\n",
       "      <td>29</td>\n",
       "      <td>009601 1</td>\n",
       "      <td>9601.0</td>\n",
       "      <td>92</td>\n",
       "      <td>38.910711</td>\n",
       "      <td>-76.939618</td>\n",
       "      <td>2011-10-27 18:35:00+00:00</td>\n",
       "      <td>2011-10-27 00:00:00+00:00</td>\n",
       "      <td>167299077</td>\n",
       "      <td>NaN</td>\n",
       "    </tr>\n",
       "    <tr>\n",
       "      <th>6</th>\n",
       "      <td>12005415</td>\n",
       "      <td>2012-01-11 19:05:00+00:00</td>\n",
       "      <td>EVENING</td>\n",
       "      <td>GUN</td>\n",
       "      <td>1</td>\n",
       "      <td>5059</td>\n",
       "      <td>404441.0</td>\n",
       "      <td>135894.0</td>\n",
       "      <td>7.0</td>\n",
       "      <td>34</td>\n",
       "      <td>...</td>\n",
       "      <td>32</td>\n",
       "      <td>009603 2</td>\n",
       "      <td>9603.0</td>\n",
       "      <td>102</td>\n",
       "      <td>38.890879</td>\n",
       "      <td>-76.948810</td>\n",
       "      <td>2012-01-11 19:00:00+00:00</td>\n",
       "      <td>2012-01-11 19:05:00+00:00</td>\n",
       "      <td>167301754</td>\n",
       "      <td>NaN</td>\n",
       "    </tr>\n",
       "    <tr>\n",
       "      <th>19</th>\n",
       "      <td>12005611</td>\n",
       "      <td>2012-01-12 08:20:00+00:00</td>\n",
       "      <td>DAY</td>\n",
       "      <td>OTHERS</td>\n",
       "      <td>2</td>\n",
       "      <td>693</td>\n",
       "      <td>401115.0</td>\n",
       "      <td>137767.0</td>\n",
       "      <td>5.0</td>\n",
       "      <td>23</td>\n",
       "      <td>...</td>\n",
       "      <td>23</td>\n",
       "      <td>008804 1</td>\n",
       "      <td>8804.0</td>\n",
       "      <td>76</td>\n",
       "      <td>38.907762</td>\n",
       "      <td>-76.987145</td>\n",
       "      <td>2012-01-12 08:20:00+00:00</td>\n",
       "      <td>2012-01-12 08:20:00+00:00</td>\n",
       "      <td>167301767</td>\n",
       "      <td>NaN</td>\n",
       "    </tr>\n",
       "    <tr>\n",
       "      <th>28</th>\n",
       "      <td>12005658</td>\n",
       "      <td>2012-01-12 10:11:00+00:00</td>\n",
       "      <td>DAY</td>\n",
       "      <td>OTHERS</td>\n",
       "      <td>2</td>\n",
       "      <td>877</td>\n",
       "      <td>401310.0</td>\n",
       "      <td>137764.0</td>\n",
       "      <td>5.0</td>\n",
       "      <td>23</td>\n",
       "      <td>...</td>\n",
       "      <td>23</td>\n",
       "      <td>008804 1</td>\n",
       "      <td>8804.0</td>\n",
       "      <td>78</td>\n",
       "      <td>38.907734</td>\n",
       "      <td>-76.984896</td>\n",
       "      <td>2012-01-12 10:00:00+00:00</td>\n",
       "      <td>2012-01-12 10:03:00+00:00</td>\n",
       "      <td>167301776</td>\n",
       "      <td>NaN</td>\n",
       "    </tr>\n",
       "  </tbody>\n",
       "</table>\n",
       "<p>5 rows × 22 columns</p>\n",
       "</div>"
      ],
      "text/plain": [
       "         CCN                REPORT_DAT     SHIFT  METHOD  OFFENSE  BLOCK  \\\n",
       "3   11141272 2012-06-25 00:00:00+00:00  MIDNIGHT  OTHERS        3   3735   \n",
       "4   11158196 2012-01-05 00:00:00+00:00  MIDNIGHT  OTHERS        3   5578   \n",
       "6   12005415 2012-01-11 19:05:00+00:00   EVENING     GUN        1   5059   \n",
       "19  12005611 2012-01-12 08:20:00+00:00       DAY  OTHERS        2    693   \n",
       "28  12005658 2012-01-12 10:11:00+00:00       DAY  OTHERS        2    877   \n",
       "\n",
       "      XBLOCK    YBLOCK  WARD  ANC  ...  NEIGHBORHOOD_CLUSTER  BLOCK_GROUP  \\\n",
       "3   402815.0  131990.0   8.0   36  ...                    36     007502 2   \n",
       "4   405237.0  138096.0   7.0   32  ...                    29     009601 1   \n",
       "6   404441.0  135894.0   7.0   34  ...                    32     009603 2   \n",
       "19  401115.0  137767.0   5.0   23  ...                    23     008804 1   \n",
       "28  401310.0  137764.0   5.0   23  ...                    23     008804 1   \n",
       "\n",
       "    CENSUS_TRACT VOTING_PRECINCT   LATITUDE  LONGITUDE  \\\n",
       "3         7502.0             134  38.855717 -76.967568   \n",
       "4         9601.0              92  38.910711 -76.939618   \n",
       "6         9603.0             102  38.890879 -76.948810   \n",
       "19        8804.0              76  38.907762 -76.987145   \n",
       "28        8804.0              78  38.907734 -76.984896   \n",
       "\n",
       "                  START_DATE                  END_DATE   OBJECTID  \\\n",
       "3  2011-09-26 06:45:00+00:00 2011-09-26 06:55:00+00:00  167296016   \n",
       "4  2011-10-27 18:35:00+00:00 2011-10-27 00:00:00+00:00  167299077   \n",
       "6  2012-01-11 19:00:00+00:00 2012-01-11 19:05:00+00:00  167301754   \n",
       "19 2012-01-12 08:20:00+00:00 2012-01-12 08:20:00+00:00  167301767   \n",
       "28 2012-01-12 10:00:00+00:00 2012-01-12 10:03:00+00:00  167301776   \n",
       "\n",
       "   OCTO_RECORD_ID  \n",
       "3             NaN  \n",
       "4             NaN  \n",
       "6             NaN  \n",
       "19            NaN  \n",
       "28            NaN  \n",
       "\n",
       "[5 rows x 22 columns]"
      ]
     },
     "execution_count": 39,
     "metadata": {},
     "output_type": "execute_result"
    }
   ],
   "source": [
    "df.head()"
   ]
  },
  {
   "cell_type": "markdown",
   "id": "5fb0bdf8",
   "metadata": {},
   "source": [
    "> ### One Hot Encoding SHIFT and METHOD using get_dummies() function. It will create new columns with value 0 and 1 only."
   ]
  },
  {
   "cell_type": "code",
   "execution_count": 40,
   "id": "3243437f",
   "metadata": {},
   "outputs": [
    {
     "data": {
      "text/plain": [
       "array(['MIDNIGHT', 'EVENING', 'DAY'], dtype=object)"
      ]
     },
     "execution_count": 40,
     "metadata": {},
     "output_type": "execute_result"
    }
   ],
   "source": [
    "df['SHIFT'].unique()"
   ]
  },
  {
   "cell_type": "code",
   "execution_count": 41,
   "id": "b3ad693d",
   "metadata": {},
   "outputs": [
    {
     "data": {
      "text/plain": [
       "array(['OTHERS', 'GUN', 'KNIFE'], dtype=object)"
      ]
     },
     "execution_count": 41,
     "metadata": {},
     "output_type": "execute_result"
    }
   ],
   "source": [
    "df['METHOD'].unique()"
   ]
  },
  {
   "cell_type": "code",
   "execution_count": 42,
   "id": "4b11ad74",
   "metadata": {},
   "outputs": [],
   "source": [
    "shift_encoder = pp.LabelEncoder()\n",
    "df['SHIFT']=shift_encoder.fit_transform(df['SHIFT'])\n",
    "\n",
    "met_encoder = pp.LabelEncoder()\n",
    "df['METHOD']=met_encoder.fit_transform(df['METHOD'])"
   ]
  },
  {
   "cell_type": "code",
   "execution_count": 43,
   "id": "ba4aca28",
   "metadata": {
    "scrolled": true
   },
   "outputs": [
    {
     "data": {
      "text/html": [
       "<div>\n",
       "<style scoped>\n",
       "    .dataframe tbody tr th:only-of-type {\n",
       "        vertical-align: middle;\n",
       "    }\n",
       "\n",
       "    .dataframe tbody tr th {\n",
       "        vertical-align: top;\n",
       "    }\n",
       "\n",
       "    .dataframe thead th {\n",
       "        text-align: right;\n",
       "    }\n",
       "</style>\n",
       "<table border=\"1\" class=\"dataframe\">\n",
       "  <thead>\n",
       "    <tr style=\"text-align: right;\">\n",
       "      <th></th>\n",
       "      <th>CCN</th>\n",
       "      <th>REPORT_DAT</th>\n",
       "      <th>SHIFT</th>\n",
       "      <th>METHOD</th>\n",
       "      <th>OFFENSE</th>\n",
       "      <th>BLOCK</th>\n",
       "      <th>XBLOCK</th>\n",
       "      <th>YBLOCK</th>\n",
       "      <th>WARD</th>\n",
       "      <th>ANC</th>\n",
       "      <th>...</th>\n",
       "      <th>NEIGHBORHOOD_CLUSTER</th>\n",
       "      <th>BLOCK_GROUP</th>\n",
       "      <th>CENSUS_TRACT</th>\n",
       "      <th>VOTING_PRECINCT</th>\n",
       "      <th>LATITUDE</th>\n",
       "      <th>LONGITUDE</th>\n",
       "      <th>START_DATE</th>\n",
       "      <th>END_DATE</th>\n",
       "      <th>OBJECTID</th>\n",
       "      <th>OCTO_RECORD_ID</th>\n",
       "    </tr>\n",
       "  </thead>\n",
       "  <tbody>\n",
       "    <tr>\n",
       "      <th>3</th>\n",
       "      <td>11141272</td>\n",
       "      <td>2012-06-25 00:00:00+00:00</td>\n",
       "      <td>2</td>\n",
       "      <td>2</td>\n",
       "      <td>3</td>\n",
       "      <td>3735</td>\n",
       "      <td>402815.0</td>\n",
       "      <td>131990.0</td>\n",
       "      <td>8.0</td>\n",
       "      <td>36</td>\n",
       "      <td>...</td>\n",
       "      <td>36</td>\n",
       "      <td>007502 2</td>\n",
       "      <td>7502.0</td>\n",
       "      <td>134</td>\n",
       "      <td>38.855717</td>\n",
       "      <td>-76.967568</td>\n",
       "      <td>2011-09-26 06:45:00+00:00</td>\n",
       "      <td>2011-09-26 06:55:00+00:00</td>\n",
       "      <td>167296016</td>\n",
       "      <td>NaN</td>\n",
       "    </tr>\n",
       "    <tr>\n",
       "      <th>4</th>\n",
       "      <td>11158196</td>\n",
       "      <td>2012-01-05 00:00:00+00:00</td>\n",
       "      <td>2</td>\n",
       "      <td>2</td>\n",
       "      <td>3</td>\n",
       "      <td>5578</td>\n",
       "      <td>405237.0</td>\n",
       "      <td>138096.0</td>\n",
       "      <td>7.0</td>\n",
       "      <td>32</td>\n",
       "      <td>...</td>\n",
       "      <td>29</td>\n",
       "      <td>009601 1</td>\n",
       "      <td>9601.0</td>\n",
       "      <td>92</td>\n",
       "      <td>38.910711</td>\n",
       "      <td>-76.939618</td>\n",
       "      <td>2011-10-27 18:35:00+00:00</td>\n",
       "      <td>2011-10-27 00:00:00+00:00</td>\n",
       "      <td>167299077</td>\n",
       "      <td>NaN</td>\n",
       "    </tr>\n",
       "    <tr>\n",
       "      <th>6</th>\n",
       "      <td>12005415</td>\n",
       "      <td>2012-01-11 19:05:00+00:00</td>\n",
       "      <td>1</td>\n",
       "      <td>0</td>\n",
       "      <td>1</td>\n",
       "      <td>5059</td>\n",
       "      <td>404441.0</td>\n",
       "      <td>135894.0</td>\n",
       "      <td>7.0</td>\n",
       "      <td>34</td>\n",
       "      <td>...</td>\n",
       "      <td>32</td>\n",
       "      <td>009603 2</td>\n",
       "      <td>9603.0</td>\n",
       "      <td>102</td>\n",
       "      <td>38.890879</td>\n",
       "      <td>-76.948810</td>\n",
       "      <td>2012-01-11 19:00:00+00:00</td>\n",
       "      <td>2012-01-11 19:05:00+00:00</td>\n",
       "      <td>167301754</td>\n",
       "      <td>NaN</td>\n",
       "    </tr>\n",
       "    <tr>\n",
       "      <th>19</th>\n",
       "      <td>12005611</td>\n",
       "      <td>2012-01-12 08:20:00+00:00</td>\n",
       "      <td>0</td>\n",
       "      <td>2</td>\n",
       "      <td>2</td>\n",
       "      <td>693</td>\n",
       "      <td>401115.0</td>\n",
       "      <td>137767.0</td>\n",
       "      <td>5.0</td>\n",
       "      <td>23</td>\n",
       "      <td>...</td>\n",
       "      <td>23</td>\n",
       "      <td>008804 1</td>\n",
       "      <td>8804.0</td>\n",
       "      <td>76</td>\n",
       "      <td>38.907762</td>\n",
       "      <td>-76.987145</td>\n",
       "      <td>2012-01-12 08:20:00+00:00</td>\n",
       "      <td>2012-01-12 08:20:00+00:00</td>\n",
       "      <td>167301767</td>\n",
       "      <td>NaN</td>\n",
       "    </tr>\n",
       "    <tr>\n",
       "      <th>28</th>\n",
       "      <td>12005658</td>\n",
       "      <td>2012-01-12 10:11:00+00:00</td>\n",
       "      <td>0</td>\n",
       "      <td>2</td>\n",
       "      <td>2</td>\n",
       "      <td>877</td>\n",
       "      <td>401310.0</td>\n",
       "      <td>137764.0</td>\n",
       "      <td>5.0</td>\n",
       "      <td>23</td>\n",
       "      <td>...</td>\n",
       "      <td>23</td>\n",
       "      <td>008804 1</td>\n",
       "      <td>8804.0</td>\n",
       "      <td>78</td>\n",
       "      <td>38.907734</td>\n",
       "      <td>-76.984896</td>\n",
       "      <td>2012-01-12 10:00:00+00:00</td>\n",
       "      <td>2012-01-12 10:03:00+00:00</td>\n",
       "      <td>167301776</td>\n",
       "      <td>NaN</td>\n",
       "    </tr>\n",
       "  </tbody>\n",
       "</table>\n",
       "<p>5 rows × 22 columns</p>\n",
       "</div>"
      ],
      "text/plain": [
       "         CCN                REPORT_DAT  SHIFT  METHOD  OFFENSE  BLOCK  \\\n",
       "3   11141272 2012-06-25 00:00:00+00:00      2       2        3   3735   \n",
       "4   11158196 2012-01-05 00:00:00+00:00      2       2        3   5578   \n",
       "6   12005415 2012-01-11 19:05:00+00:00      1       0        1   5059   \n",
       "19  12005611 2012-01-12 08:20:00+00:00      0       2        2    693   \n",
       "28  12005658 2012-01-12 10:11:00+00:00      0       2        2    877   \n",
       "\n",
       "      XBLOCK    YBLOCK  WARD  ANC  ...  NEIGHBORHOOD_CLUSTER  BLOCK_GROUP  \\\n",
       "3   402815.0  131990.0   8.0   36  ...                    36     007502 2   \n",
       "4   405237.0  138096.0   7.0   32  ...                    29     009601 1   \n",
       "6   404441.0  135894.0   7.0   34  ...                    32     009603 2   \n",
       "19  401115.0  137767.0   5.0   23  ...                    23     008804 1   \n",
       "28  401310.0  137764.0   5.0   23  ...                    23     008804 1   \n",
       "\n",
       "    CENSUS_TRACT VOTING_PRECINCT   LATITUDE  LONGITUDE  \\\n",
       "3         7502.0             134  38.855717 -76.967568   \n",
       "4         9601.0              92  38.910711 -76.939618   \n",
       "6         9603.0             102  38.890879 -76.948810   \n",
       "19        8804.0              76  38.907762 -76.987145   \n",
       "28        8804.0              78  38.907734 -76.984896   \n",
       "\n",
       "                  START_DATE                  END_DATE   OBJECTID  \\\n",
       "3  2011-09-26 06:45:00+00:00 2011-09-26 06:55:00+00:00  167296016   \n",
       "4  2011-10-27 18:35:00+00:00 2011-10-27 00:00:00+00:00  167299077   \n",
       "6  2012-01-11 19:00:00+00:00 2012-01-11 19:05:00+00:00  167301754   \n",
       "19 2012-01-12 08:20:00+00:00 2012-01-12 08:20:00+00:00  167301767   \n",
       "28 2012-01-12 10:00:00+00:00 2012-01-12 10:03:00+00:00  167301776   \n",
       "\n",
       "   OCTO_RECORD_ID  \n",
       "3             NaN  \n",
       "4             NaN  \n",
       "6             NaN  \n",
       "19            NaN  \n",
       "28            NaN  \n",
       "\n",
       "[5 rows x 22 columns]"
      ]
     },
     "execution_count": 43,
     "metadata": {},
     "output_type": "execute_result"
    }
   ],
   "source": [
    "df.head()"
   ]
  },
  {
   "cell_type": "code",
   "execution_count": 44,
   "id": "2a8e7f2a",
   "metadata": {},
   "outputs": [
    {
     "name": "stdout",
     "output_type": "stream",
     "text": [
      "<class 'pandas.core.frame.DataFrame'>\n",
      "Int64Index: 38358 entries, 3 to 321665\n",
      "Data columns (total 22 columns):\n",
      " #   Column                Non-Null Count  Dtype              \n",
      "---  ------                --------------  -----              \n",
      " 0   CCN                   38358 non-null  int64              \n",
      " 1   REPORT_DAT            38358 non-null  datetime64[ns, UTC]\n",
      " 2   SHIFT                 38358 non-null  int32              \n",
      " 3   METHOD                38358 non-null  int32              \n",
      " 4   OFFENSE               38358 non-null  int32              \n",
      " 5   BLOCK                 38358 non-null  int32              \n",
      " 6   XBLOCK                38358 non-null  float64            \n",
      " 7   YBLOCK                38358 non-null  float64            \n",
      " 8   WARD                  38358 non-null  float64            \n",
      " 9   ANC                   38358 non-null  int32              \n",
      " 10  DISTRICT              38358 non-null  float64            \n",
      " 11  PSA                   38358 non-null  float64            \n",
      " 12  NEIGHBORHOOD_CLUSTER  38358 non-null  int32              \n",
      " 13  BLOCK_GROUP           38358 non-null  object             \n",
      " 14  CENSUS_TRACT          38358 non-null  float64            \n",
      " 15  VOTING_PRECINCT       38358 non-null  int32              \n",
      " 16  LATITUDE              38358 non-null  float64            \n",
      " 17  LONGITUDE             38358 non-null  float64            \n",
      " 18  START_DATE            38358 non-null  datetime64[ns, UTC]\n",
      " 19  END_DATE              38358 non-null  datetime64[ns, UTC]\n",
      " 20  OBJECTID              38358 non-null  int64              \n",
      " 21  OCTO_RECORD_ID        0 non-null      float64            \n",
      "dtypes: datetime64[ns, UTC](3), float64(9), int32(7), int64(2), object(1)\n",
      "memory usage: 5.7+ MB\n"
     ]
    }
   ],
   "source": [
    "df.info()"
   ]
  },
  {
   "cell_type": "markdown",
   "id": "12ba4307",
   "metadata": {},
   "source": [
    "> ### Now here block group is only object left , should convert it to int."
   ]
  },
  {
   "cell_type": "code",
   "execution_count": 45,
   "id": "edd8d68e",
   "metadata": {},
   "outputs": [
    {
     "data": {
      "text/plain": [
       "636"
      ]
     },
     "execution_count": 45,
     "metadata": {},
     "output_type": "execute_result"
    }
   ],
   "source": [
    "df['BLOCK_GROUP'].unique().size"
   ]
  },
  {
   "cell_type": "code",
   "execution_count": 46,
   "id": "cc77073f",
   "metadata": {},
   "outputs": [],
   "source": [
    "bg_encoder = pp.LabelEncoder()\n",
    "df['BLOCK_GROUP']=bg_encoder.fit_transform(df['BLOCK_GROUP'])"
   ]
  },
  {
   "cell_type": "code",
   "execution_count": 47,
   "id": "aaae3294",
   "metadata": {},
   "outputs": [
    {
     "data": {
      "text/plain": [
       "3     401\n",
       "4     538\n",
       "6     543\n",
       "19    486\n",
       "28    486\n",
       "Name: BLOCK_GROUP, dtype: int32"
      ]
     },
     "execution_count": 47,
     "metadata": {},
     "output_type": "execute_result"
    }
   ],
   "source": [
    "df['BLOCK_GROUP'].head()"
   ]
  },
  {
   "cell_type": "code",
   "execution_count": 48,
   "id": "6e113df3",
   "metadata": {},
   "outputs": [
    {
     "name": "stdout",
     "output_type": "stream",
     "text": [
      "<class 'pandas.core.frame.DataFrame'>\n",
      "Int64Index: 38358 entries, 3 to 321665\n",
      "Data columns (total 22 columns):\n",
      " #   Column                Non-Null Count  Dtype              \n",
      "---  ------                --------------  -----              \n",
      " 0   CCN                   38358 non-null  int64              \n",
      " 1   REPORT_DAT            38358 non-null  datetime64[ns, UTC]\n",
      " 2   SHIFT                 38358 non-null  int32              \n",
      " 3   METHOD                38358 non-null  int32              \n",
      " 4   OFFENSE               38358 non-null  int32              \n",
      " 5   BLOCK                 38358 non-null  int32              \n",
      " 6   XBLOCK                38358 non-null  float64            \n",
      " 7   YBLOCK                38358 non-null  float64            \n",
      " 8   WARD                  38358 non-null  float64            \n",
      " 9   ANC                   38358 non-null  int32              \n",
      " 10  DISTRICT              38358 non-null  float64            \n",
      " 11  PSA                   38358 non-null  float64            \n",
      " 12  NEIGHBORHOOD_CLUSTER  38358 non-null  int32              \n",
      " 13  BLOCK_GROUP           38358 non-null  int32              \n",
      " 14  CENSUS_TRACT          38358 non-null  float64            \n",
      " 15  VOTING_PRECINCT       38358 non-null  int32              \n",
      " 16  LATITUDE              38358 non-null  float64            \n",
      " 17  LONGITUDE             38358 non-null  float64            \n",
      " 18  START_DATE            38358 non-null  datetime64[ns, UTC]\n",
      " 19  END_DATE              38358 non-null  datetime64[ns, UTC]\n",
      " 20  OBJECTID              38358 non-null  int64              \n",
      " 21  OCTO_RECORD_ID        0 non-null      float64            \n",
      "dtypes: datetime64[ns, UTC](3), float64(9), int32(8), int64(2)\n",
      "memory usage: 5.6 MB\n"
     ]
    }
   ],
   "source": [
    "df.info()"
   ]
  },
  {
   "cell_type": "markdown",
   "id": "509899be",
   "metadata": {},
   "source": [
    "> ### Successfully all the features converted to int,float,datetime\n",
    " *Now should remove unwanted features like CCN, strat_date, end_date,OBJECTID. Because we dont want CCN,OBJECTID and also instead of two dates we have another feature report_date.*"
   ]
  },
  {
   "cell_type": "code",
   "execution_count": 49,
   "id": "3e6db00e",
   "metadata": {},
   "outputs": [],
   "source": [
    "df.drop(['CCN','START_DATE','END_DATE','OBJECTID'],axis=1,inplace=True)"
   ]
  },
  {
   "cell_type": "markdown",
   "id": "d4ea0cf8",
   "metadata": {},
   "source": [
    "> ### *Report date converted to month,day day of week.*"
   ]
  },
  {
   "cell_type": "code",
   "execution_count": 50,
   "id": "59b10bbc",
   "metadata": {},
   "outputs": [],
   "source": [
    "df['MONTH']=df['REPORT_DAT'].dt.month\n",
    "df['DAY']=df['REPORT_DAT'].dt.day\n",
    "df['Day_Week']=df['REPORT_DAT'].dt.dayofweek\n",
    "df.drop('REPORT_DAT',axis=1,inplace=True)"
   ]
  },
  {
   "cell_type": "markdown",
   "id": "abf687ea",
   "metadata": {},
   "source": [
    "## Final DataSet"
   ]
  },
  {
   "cell_type": "markdown",
   "id": "5f0486ac",
   "metadata": {},
   "source": [
    "> ### Data Summarization"
   ]
  },
  {
   "cell_type": "code",
   "execution_count": 51,
   "id": "853a879f",
   "metadata": {},
   "outputs": [
    {
     "data": {
      "text/html": [
       "<div>\n",
       "<style scoped>\n",
       "    .dataframe tbody tr th:only-of-type {\n",
       "        vertical-align: middle;\n",
       "    }\n",
       "\n",
       "    .dataframe tbody tr th {\n",
       "        vertical-align: top;\n",
       "    }\n",
       "\n",
       "    .dataframe thead th {\n",
       "        text-align: right;\n",
       "    }\n",
       "</style>\n",
       "<table border=\"1\" class=\"dataframe\">\n",
       "  <thead>\n",
       "    <tr style=\"text-align: right;\">\n",
       "      <th></th>\n",
       "      <th>SHIFT</th>\n",
       "      <th>METHOD</th>\n",
       "      <th>OFFENSE</th>\n",
       "      <th>BLOCK</th>\n",
       "      <th>XBLOCK</th>\n",
       "      <th>YBLOCK</th>\n",
       "      <th>WARD</th>\n",
       "      <th>ANC</th>\n",
       "      <th>DISTRICT</th>\n",
       "      <th>PSA</th>\n",
       "      <th>NEIGHBORHOOD_CLUSTER</th>\n",
       "      <th>BLOCK_GROUP</th>\n",
       "      <th>CENSUS_TRACT</th>\n",
       "      <th>VOTING_PRECINCT</th>\n",
       "      <th>LATITUDE</th>\n",
       "      <th>LONGITUDE</th>\n",
       "      <th>OCTO_RECORD_ID</th>\n",
       "      <th>MONTH</th>\n",
       "      <th>DAY</th>\n",
       "      <th>Day_Week</th>\n",
       "    </tr>\n",
       "  </thead>\n",
       "  <tbody>\n",
       "    <tr>\n",
       "      <th>3</th>\n",
       "      <td>2</td>\n",
       "      <td>2</td>\n",
       "      <td>3</td>\n",
       "      <td>3735</td>\n",
       "      <td>402815.0</td>\n",
       "      <td>131990.0</td>\n",
       "      <td>8.0</td>\n",
       "      <td>36</td>\n",
       "      <td>7.0</td>\n",
       "      <td>702.0</td>\n",
       "      <td>36</td>\n",
       "      <td>401</td>\n",
       "      <td>7502.0</td>\n",
       "      <td>134</td>\n",
       "      <td>38.855717</td>\n",
       "      <td>-76.967568</td>\n",
       "      <td>NaN</td>\n",
       "      <td>6</td>\n",
       "      <td>25</td>\n",
       "      <td>0</td>\n",
       "    </tr>\n",
       "    <tr>\n",
       "      <th>4</th>\n",
       "      <td>2</td>\n",
       "      <td>2</td>\n",
       "      <td>3</td>\n",
       "      <td>5578</td>\n",
       "      <td>405237.0</td>\n",
       "      <td>138096.0</td>\n",
       "      <td>7.0</td>\n",
       "      <td>32</td>\n",
       "      <td>6.0</td>\n",
       "      <td>601.0</td>\n",
       "      <td>29</td>\n",
       "      <td>538</td>\n",
       "      <td>9601.0</td>\n",
       "      <td>92</td>\n",
       "      <td>38.910711</td>\n",
       "      <td>-76.939618</td>\n",
       "      <td>NaN</td>\n",
       "      <td>1</td>\n",
       "      <td>5</td>\n",
       "      <td>3</td>\n",
       "    </tr>\n",
       "    <tr>\n",
       "      <th>6</th>\n",
       "      <td>1</td>\n",
       "      <td>0</td>\n",
       "      <td>1</td>\n",
       "      <td>5059</td>\n",
       "      <td>404441.0</td>\n",
       "      <td>135894.0</td>\n",
       "      <td>7.0</td>\n",
       "      <td>34</td>\n",
       "      <td>6.0</td>\n",
       "      <td>603.0</td>\n",
       "      <td>32</td>\n",
       "      <td>543</td>\n",
       "      <td>9603.0</td>\n",
       "      <td>102</td>\n",
       "      <td>38.890879</td>\n",
       "      <td>-76.948810</td>\n",
       "      <td>NaN</td>\n",
       "      <td>1</td>\n",
       "      <td>11</td>\n",
       "      <td>2</td>\n",
       "    </tr>\n",
       "    <tr>\n",
       "      <th>19</th>\n",
       "      <td>0</td>\n",
       "      <td>2</td>\n",
       "      <td>2</td>\n",
       "      <td>693</td>\n",
       "      <td>401115.0</td>\n",
       "      <td>137767.0</td>\n",
       "      <td>5.0</td>\n",
       "      <td>23</td>\n",
       "      <td>5.0</td>\n",
       "      <td>506.0</td>\n",
       "      <td>23</td>\n",
       "      <td>486</td>\n",
       "      <td>8804.0</td>\n",
       "      <td>76</td>\n",
       "      <td>38.907762</td>\n",
       "      <td>-76.987145</td>\n",
       "      <td>NaN</td>\n",
       "      <td>1</td>\n",
       "      <td>12</td>\n",
       "      <td>3</td>\n",
       "    </tr>\n",
       "    <tr>\n",
       "      <th>28</th>\n",
       "      <td>0</td>\n",
       "      <td>2</td>\n",
       "      <td>2</td>\n",
       "      <td>877</td>\n",
       "      <td>401310.0</td>\n",
       "      <td>137764.0</td>\n",
       "      <td>5.0</td>\n",
       "      <td>23</td>\n",
       "      <td>5.0</td>\n",
       "      <td>506.0</td>\n",
       "      <td>23</td>\n",
       "      <td>486</td>\n",
       "      <td>8804.0</td>\n",
       "      <td>78</td>\n",
       "      <td>38.907734</td>\n",
       "      <td>-76.984896</td>\n",
       "      <td>NaN</td>\n",
       "      <td>1</td>\n",
       "      <td>12</td>\n",
       "      <td>3</td>\n",
       "    </tr>\n",
       "  </tbody>\n",
       "</table>\n",
       "</div>"
      ],
      "text/plain": [
       "    SHIFT  METHOD  OFFENSE  BLOCK    XBLOCK    YBLOCK  WARD  ANC  DISTRICT  \\\n",
       "3       2       2        3   3735  402815.0  131990.0   8.0   36       7.0   \n",
       "4       2       2        3   5578  405237.0  138096.0   7.0   32       6.0   \n",
       "6       1       0        1   5059  404441.0  135894.0   7.0   34       6.0   \n",
       "19      0       2        2    693  401115.0  137767.0   5.0   23       5.0   \n",
       "28      0       2        2    877  401310.0  137764.0   5.0   23       5.0   \n",
       "\n",
       "      PSA  NEIGHBORHOOD_CLUSTER  BLOCK_GROUP  CENSUS_TRACT  VOTING_PRECINCT  \\\n",
       "3   702.0                    36          401        7502.0              134   \n",
       "4   601.0                    29          538        9601.0               92   \n",
       "6   603.0                    32          543        9603.0              102   \n",
       "19  506.0                    23          486        8804.0               76   \n",
       "28  506.0                    23          486        8804.0               78   \n",
       "\n",
       "     LATITUDE  LONGITUDE  OCTO_RECORD_ID  MONTH  DAY  Day_Week  \n",
       "3   38.855717 -76.967568             NaN      6   25         0  \n",
       "4   38.910711 -76.939618             NaN      1    5         3  \n",
       "6   38.890879 -76.948810             NaN      1   11         2  \n",
       "19  38.907762 -76.987145             NaN      1   12         3  \n",
       "28  38.907734 -76.984896             NaN      1   12         3  "
      ]
     },
     "execution_count": 51,
     "metadata": {},
     "output_type": "execute_result"
    }
   ],
   "source": [
    "df.head()"
   ]
  },
  {
   "cell_type": "code",
   "execution_count": 52,
   "id": "ab2ebef0",
   "metadata": {},
   "outputs": [
    {
     "data": {
      "text/plain": [
       "(38358, 20)"
      ]
     },
     "execution_count": 52,
     "metadata": {},
     "output_type": "execute_result"
    }
   ],
   "source": [
    "df.shape"
   ]
  },
  {
   "cell_type": "code",
   "execution_count": 53,
   "id": "05a7349b",
   "metadata": {},
   "outputs": [
    {
     "name": "stdout",
     "output_type": "stream",
     "text": [
      "<class 'pandas.core.frame.DataFrame'>\n",
      "Int64Index: 38358 entries, 3 to 321665\n",
      "Data columns (total 20 columns):\n",
      " #   Column                Non-Null Count  Dtype  \n",
      "---  ------                --------------  -----  \n",
      " 0   SHIFT                 38358 non-null  int32  \n",
      " 1   METHOD                38358 non-null  int32  \n",
      " 2   OFFENSE               38358 non-null  int32  \n",
      " 3   BLOCK                 38358 non-null  int32  \n",
      " 4   XBLOCK                38358 non-null  float64\n",
      " 5   YBLOCK                38358 non-null  float64\n",
      " 6   WARD                  38358 non-null  float64\n",
      " 7   ANC                   38358 non-null  int32  \n",
      " 8   DISTRICT              38358 non-null  float64\n",
      " 9   PSA                   38358 non-null  float64\n",
      " 10  NEIGHBORHOOD_CLUSTER  38358 non-null  int32  \n",
      " 11  BLOCK_GROUP           38358 non-null  int32  \n",
      " 12  CENSUS_TRACT          38358 non-null  float64\n",
      " 13  VOTING_PRECINCT       38358 non-null  int32  \n",
      " 14  LATITUDE              38358 non-null  float64\n",
      " 15  LONGITUDE             38358 non-null  float64\n",
      " 16  OCTO_RECORD_ID        0 non-null      float64\n",
      " 17  MONTH                 38358 non-null  int64  \n",
      " 18  DAY                   38358 non-null  int64  \n",
      " 19  Day_Week              38358 non-null  int64  \n",
      "dtypes: float64(9), int32(8), int64(3)\n",
      "memory usage: 5.0 MB\n"
     ]
    }
   ],
   "source": [
    "df.info()"
   ]
  },
  {
   "cell_type": "code",
   "execution_count": 54,
   "id": "230d75e4",
   "metadata": {},
   "outputs": [],
   "source": [
    "df.drop(['OCTO_RECORD_ID'],axis=1,inplace=True)"
   ]
  },
  {
   "cell_type": "code",
   "execution_count": 55,
   "id": "c165bc84",
   "metadata": {},
   "outputs": [
    {
     "data": {
      "text/plain": [
       "SHIFT                        2.000000\n",
       "METHOD                       2.000000\n",
       "OFFENSE                      3.000000\n",
       "BLOCK                     3735.000000\n",
       "XBLOCK                  402815.000000\n",
       "YBLOCK                  131990.000000\n",
       "WARD                         8.000000\n",
       "ANC                         36.000000\n",
       "DISTRICT                     7.000000\n",
       "PSA                        702.000000\n",
       "NEIGHBORHOOD_CLUSTER        36.000000\n",
       "BLOCK_GROUP                401.000000\n",
       "CENSUS_TRACT              7502.000000\n",
       "VOTING_PRECINCT            134.000000\n",
       "LATITUDE                    38.855717\n",
       "LONGITUDE                  -76.967568\n",
       "MONTH                        6.000000\n",
       "DAY                         25.000000\n",
       "Day_Week                     0.000000\n",
       "Name: 3, dtype: float64"
      ]
     },
     "execution_count": 55,
     "metadata": {},
     "output_type": "execute_result"
    }
   ],
   "source": [
    "df.iloc[0]"
   ]
  },
  {
   "cell_type": "markdown",
   "id": "01661f46",
   "metadata": {},
   "source": [
    "# Data Visualization"
   ]
  },
  {
   "attachments": {},
   "cell_type": "markdown",
   "id": "842a0316",
   "metadata": {},
   "source": [
    "> ## This histogram shows that until 2018, there is not much difference in crime rate. After that there is large decrease in crime rate and it is increasing each year."
   ]
  },
  {
   "cell_type": "code",
   "execution_count": 56,
   "id": "667e999a",
   "metadata": {},
   "outputs": [
    {
     "data": {
      "text/plain": [
       "<BarContainer object of 10 artists>"
      ]
     },
     "execution_count": 56,
     "metadata": {},
     "output_type": "execute_result"
    },
    {
     "data": {
      "image/png": "[encoded data removed]",
      "text/plain": [
       "<Figure size 432x288 with 1 Axes>"
      ]
     },
     "metadata": {
      "needs_background": "light"
     },
     "output_type": "display_data"
    }
   ],
   "source": [
    "c = pd.Series(crime)\n",
    "y = pd.Series(year)\n",
    "plt.bar(y, c,)"
   ]
  },
  {
   "cell_type": "markdown",
   "id": "b67c503e",
   "metadata": {},
   "source": [
    "## correlation heat map"
   ]
  },
  {
   "cell_type": "code",
   "execution_count": 57,
   "id": "75792807",
   "metadata": {},
   "outputs": [
    {
     "data": {
      "text/plain": [
       "<AxesSubplot:>"
      ]
     },
     "execution_count": 57,
     "metadata": {},
     "output_type": "execute_result"
    },
    {
     "data": {
      "image/png": "[encoded data removed]",
      "text/plain": [
       "<Figure size 1080x504 with 2 Axes>"
      ]
     },
     "metadata": {
      "needs_background": "light"
     },
     "output_type": "display_data"
    }
   ],
   "source": [
    "plt.figure(figsize=[15,7])\n",
    "sb.heatmap(df.corr(), annot=True)"
   ]
  },
  {
   "attachments": {},
   "cell_type": "markdown",
   "id": "b4612b13",
   "metadata": {},
   "source": [
    "> ## APPLYING K-MEANS CLUSTERING TO FIND AREA WHERE CRIME IS MOST LIKELY TO OCCUR."
   ]
  },
  {
   "cell_type": "code",
   "execution_count": 58,
   "id": "12e778f1",
   "metadata": {},
   "outputs": [
    {
     "data": {
      "image/png": "[encoded data removed]",
      "text/plain": [
       "<Figure size 432x288 with 1 Axes>"
      ]
     },
     "metadata": {
      "needs_background": "light"
     },
     "output_type": "display_data"
    }
   ],
   "source": [
    "from sklearn.cluster import KMeans\n",
    "data = list(zip(df['LATITUDE'].values, df['LONGITUDE'].values))\n",
    "kmeans = KMeans(n_clusters=6)\n",
    "kmeans.fit(data)\n",
    "\n",
    "plt.scatter(df['LATITUDE'], df['LONGITUDE'], c=kmeans.labels_)\n",
    "plt.show()"
   ]
  },
  {
   "cell_type": "markdown",
   "id": "70fbeee7",
   "metadata": {},
   "source": [
    "> ## Important feature using ExtraTreesRegressor"
   ]
  },
  {
   "cell_type": "code",
   "execution_count": 59,
   "id": "cdaa9b2b",
   "metadata": {},
   "outputs": [
    {
     "data": {
      "text/plain": [
       "ExtraTreesRegressor()"
      ]
     },
     "execution_count": 59,
     "metadata": {},
     "output_type": "execute_result"
    }
   ],
   "source": [
    "from sklearn.ensemble import ExtraTreesRegressor\n",
    "X = df.drop('OFFENSE',axis=1)\n",
    "y = df['OFFENSE']\n",
    "model = ExtraTreesRegressor()\n",
    "model.fit(X,y)"
   ]
  },
  {
   "cell_type": "markdown",
   "id": "091bb090",
   "metadata": {},
   "source": [
    "> ## plot graph of feature importances for 6 better visualization\n"
   ]
  },
  {
   "cell_type": "code",
   "execution_count": 60,
   "id": "e997cba1",
   "metadata": {},
   "outputs": [
    {
     "data": {
      "image/png": "[encoded data removed]",
      "text/plain": [
       "<Figure size 864x432 with 1 Axes>"
      ]
     },
     "metadata": {
      "needs_background": "light"
     },
     "output_type": "display_data"
    }
   ],
   "source": [
    "plt.figure(figsize=[12,6])\n",
    "feat_importances = pd.Series(model.feature_importances_, index=X.columns)\n",
    "feat_importances.nlargest(6).plot(kind='barh')\n",
    "plt.show()"
   ]
  },
  {
   "cell_type": "code",
   "execution_count": 61,
   "id": "5d1ddf52",
   "metadata": {},
   "outputs": [
    {
     "name": "stdout",
     "output_type": "stream",
     "text": [
      "METHOD                  0.295593\n",
      "DAY                     0.092954\n",
      "MONTH                   0.080703\n",
      "BLOCK                   0.065128\n",
      "Day_Week                0.060787\n",
      "YBLOCK                  0.050063\n",
      "LATITUDE                0.050008\n",
      "LONGITUDE               0.049848\n",
      "XBLOCK                  0.049827\n",
      "SHIFT                   0.044893\n",
      "BLOCK_GROUP             0.034276\n",
      "VOTING_PRECINCT         0.026371\n",
      "CENSUS_TRACT            0.024260\n",
      "PSA                     0.021760\n",
      "ANC                     0.021302\n",
      "NEIGHBORHOOD_CLUSTER    0.017108\n",
      "WARD                    0.008112\n",
      "DISTRICT                0.007008\n",
      "dtype: float64\n"
     ]
    }
   ],
   "source": [
    "print(feat_importances.sort_values(ascending=False))"
   ]
  },
  {
   "cell_type": "code",
   "execution_count": 62,
   "id": "e8e8096d",
   "metadata": {},
   "outputs": [
    {
     "data": {
      "text/html": [
       "<div>\n",
       "<style scoped>\n",
       "    .dataframe tbody tr th:only-of-type {\n",
       "        vertical-align: middle;\n",
       "    }\n",
       "\n",
       "    .dataframe tbody tr th {\n",
       "        vertical-align: top;\n",
       "    }\n",
       "\n",
       "    .dataframe thead th {\n",
       "        text-align: right;\n",
       "    }\n",
       "</style>\n",
       "<table border=\"1\" class=\"dataframe\">\n",
       "  <thead>\n",
       "    <tr style=\"text-align: right;\">\n",
       "      <th></th>\n",
       "      <th>METHOD</th>\n",
       "      <th>DAY</th>\n",
       "      <th>BLOCK</th>\n",
       "      <th>Day_Week</th>\n",
       "      <th>LONGITUDE</th>\n",
       "      <th>XBLOCK</th>\n",
       "      <th>ANC</th>\n",
       "      <th>PSA</th>\n",
       "      <th>NEIGHBORHOOD_CLUSTER</th>\n",
       "      <th>OFFENSE</th>\n",
       "    </tr>\n",
       "  </thead>\n",
       "  <tbody>\n",
       "    <tr>\n",
       "      <th>3</th>\n",
       "      <td>2</td>\n",
       "      <td>25</td>\n",
       "      <td>3735</td>\n",
       "      <td>0</td>\n",
       "      <td>-76.967568</td>\n",
       "      <td>402815.000000</td>\n",
       "      <td>36</td>\n",
       "      <td>702.0</td>\n",
       "      <td>36</td>\n",
       "      <td>3</td>\n",
       "    </tr>\n",
       "    <tr>\n",
       "      <th>4</th>\n",
       "      <td>2</td>\n",
       "      <td>5</td>\n",
       "      <td>5578</td>\n",
       "      <td>3</td>\n",
       "      <td>-76.939618</td>\n",
       "      <td>405237.000000</td>\n",
       "      <td>32</td>\n",
       "      <td>601.0</td>\n",
       "      <td>29</td>\n",
       "      <td>3</td>\n",
       "    </tr>\n",
       "    <tr>\n",
       "      <th>6</th>\n",
       "      <td>0</td>\n",
       "      <td>11</td>\n",
       "      <td>5059</td>\n",
       "      <td>2</td>\n",
       "      <td>-76.948810</td>\n",
       "      <td>404441.000000</td>\n",
       "      <td>34</td>\n",
       "      <td>603.0</td>\n",
       "      <td>32</td>\n",
       "      <td>1</td>\n",
       "    </tr>\n",
       "    <tr>\n",
       "      <th>19</th>\n",
       "      <td>2</td>\n",
       "      <td>12</td>\n",
       "      <td>693</td>\n",
       "      <td>3</td>\n",
       "      <td>-76.987145</td>\n",
       "      <td>401115.000000</td>\n",
       "      <td>23</td>\n",
       "      <td>506.0</td>\n",
       "      <td>23</td>\n",
       "      <td>2</td>\n",
       "    </tr>\n",
       "    <tr>\n",
       "      <th>28</th>\n",
       "      <td>2</td>\n",
       "      <td>12</td>\n",
       "      <td>877</td>\n",
       "      <td>3</td>\n",
       "      <td>-76.984896</td>\n",
       "      <td>401310.000000</td>\n",
       "      <td>23</td>\n",
       "      <td>506.0</td>\n",
       "      <td>23</td>\n",
       "      <td>2</td>\n",
       "    </tr>\n",
       "    <tr>\n",
       "      <th>...</th>\n",
       "      <td>...</td>\n",
       "      <td>...</td>\n",
       "      <td>...</td>\n",
       "      <td>...</td>\n",
       "      <td>...</td>\n",
       "      <td>...</td>\n",
       "      <td>...</td>\n",
       "      <td>...</td>\n",
       "      <td>...</td>\n",
       "      <td>...</td>\n",
       "    </tr>\n",
       "    <tr>\n",
       "      <th>321603</th>\n",
       "      <td>0</td>\n",
       "      <td>7</td>\n",
       "      <td>6651</td>\n",
       "      <td>1</td>\n",
       "      <td>-76.925616</td>\n",
       "      <td>406452.641412</td>\n",
       "      <td>31</td>\n",
       "      <td>608.0</td>\n",
       "      <td>31</td>\n",
       "      <td>1</td>\n",
       "    </tr>\n",
       "    <tr>\n",
       "      <th>321609</th>\n",
       "      <td>0</td>\n",
       "      <td>7</td>\n",
       "      <td>205</td>\n",
       "      <td>1</td>\n",
       "      <td>-76.951410</td>\n",
       "      <td>404215.590000</td>\n",
       "      <td>34</td>\n",
       "      <td>603.0</td>\n",
       "      <td>32</td>\n",
       "      <td>1</td>\n",
       "    </tr>\n",
       "    <tr>\n",
       "      <th>321623</th>\n",
       "      <td>2</td>\n",
       "      <td>18</td>\n",
       "      <td>6408</td>\n",
       "      <td>5</td>\n",
       "      <td>-77.021593</td>\n",
       "      <td>398127.740000</td>\n",
       "      <td>0</td>\n",
       "      <td>409.0</td>\n",
       "      <td>2</td>\n",
       "      <td>2</td>\n",
       "    </tr>\n",
       "    <tr>\n",
       "      <th>321637</th>\n",
       "      <td>0</td>\n",
       "      <td>24</td>\n",
       "      <td>1126</td>\n",
       "      <td>4</td>\n",
       "      <td>-76.986906</td>\n",
       "      <td>401135.800000</td>\n",
       "      <td>25</td>\n",
       "      <td>104.0</td>\n",
       "      <td>25</td>\n",
       "      <td>1</td>\n",
       "    </tr>\n",
       "    <tr>\n",
       "      <th>321665</th>\n",
       "      <td>1</td>\n",
       "      <td>2</td>\n",
       "      <td>7915</td>\n",
       "      <td>5</td>\n",
       "      <td>-77.025943</td>\n",
       "      <td>397750.790000</td>\n",
       "      <td>18</td>\n",
       "      <td>404.0</td>\n",
       "      <td>18</td>\n",
       "      <td>1</td>\n",
       "    </tr>\n",
       "  </tbody>\n",
       "</table>\n",
       "<p>38358 rows × 10 columns</p>\n",
       "</div>"
      ],
      "text/plain": [
       "        METHOD  DAY  BLOCK  Day_Week  LONGITUDE         XBLOCK  ANC    PSA  \\\n",
       "3            2   25   3735         0 -76.967568  402815.000000   36  702.0   \n",
       "4            2    5   5578         3 -76.939618  405237.000000   32  601.0   \n",
       "6            0   11   5059         2 -76.948810  404441.000000   34  603.0   \n",
       "19           2   12    693         3 -76.987145  401115.000000   23  506.0   \n",
       "28           2   12    877         3 -76.984896  401310.000000   23  506.0   \n",
       "...        ...  ...    ...       ...        ...            ...  ...    ...   \n",
       "321603       0    7   6651         1 -76.925616  406452.641412   31  608.0   \n",
       "321609       0    7    205         1 -76.951410  404215.590000   34  603.0   \n",
       "321623       2   18   6408         5 -77.021593  398127.740000    0  409.0   \n",
       "321637       0   24   1126         4 -76.986906  401135.800000   25  104.0   \n",
       "321665       1    2   7915         5 -77.025943  397750.790000   18  404.0   \n",
       "\n",
       "        NEIGHBORHOOD_CLUSTER  OFFENSE  \n",
       "3                         36        3  \n",
       "4                         29        3  \n",
       "6                         32        1  \n",
       "19                        23        2  \n",
       "28                        23        2  \n",
       "...                      ...      ...  \n",
       "321603                    31        1  \n",
       "321609                    32        1  \n",
       "321623                     2        2  \n",
       "321637                    25        1  \n",
       "321665                    18        1  \n",
       "\n",
       "[38358 rows x 10 columns]"
      ]
     },
     "execution_count": 62,
     "metadata": {},
     "output_type": "execute_result"
    }
   ],
   "source": [
    "df=df[['METHOD','DAY','BLOCK','Day_Week','LONGITUDE','XBLOCK','ANC','PSA','NEIGHBORHOOD_CLUSTER','OFFENSE']]\n",
    "df"
   ]
  },
  {
   "cell_type": "markdown",
   "id": "42212d8c",
   "metadata": {},
   "source": [
    "> ### NORMALIZATION"
   ]
  },
  {
   "cell_type": "code",
   "execution_count": 63,
   "id": "cefc64f2",
   "metadata": {},
   "outputs": [
    {
     "name": "stdout",
     "output_type": "stream",
     "text": [
      "[[1.         0.8        0.44075997 ... 0.92307692 0.99011532 0.77777778]\n",
      " [1.         0.13333333 0.65824876 ... 0.82051282 0.82372323 0.62222222]\n",
      " [0.         0.33333333 0.5970026  ... 0.87179487 0.82701812 0.68888889]\n",
      " ...\n",
      " [1.         0.56666667 0.75619542 ... 0.         0.50741351 0.02222222]\n",
      " [0.         0.76666667 0.13287704 ... 0.64102564 0.00494234 0.53333333]\n",
      " [0.5        0.03333333 0.93403351 ... 0.46153846 0.49917628 0.37777778]]\n"
     ]
    }
   ],
   "source": [
    "from sklearn.preprocessing import MinMaxScaler\n",
    "from matplotlib import pyplot\n",
    "sd = df[df.columns.drop('OFFENSE')]\n",
    "scaled = df[sd.columns]  \n",
    "scaler = MinMaxScaler()\n",
    "scaler.fit(scaled)     \n",
    "#Fit the scaler using available training data:For normalization, this means the training data will be used to estimate the minimum and maximum observable values. \n",
    "#This is done by calling the fit() function.\n",
    "scaled = scaler.transform(scaled)#using transform() function, you can use the normalized data to train your model.\n",
    "print(scaled)"
   ]
  },
  {
   "cell_type": "markdown",
   "id": "0ff7cd45",
   "metadata": {},
   "source": [
    "> ### STANDARDIZATION"
   ]
  },
  {
   "cell_type": "code",
   "execution_count": 64,
   "id": "349636b3",
   "metadata": {},
   "outputs": [
    {
     "name": "stdout",
     "output_type": "stream",
     "text": [
      "[[ 0.68294712  1.03140205 -0.04205686 ...  1.04479178  1.22420586\n",
      "   1.11005233]\n",
      " [ 0.68294712 -1.23858791  0.75382405 ...  0.70309388  0.70957824\n",
      "   0.52190443]\n",
      " [-1.86522521 -0.55759092  0.52969915 ...  0.87394283  0.71976889\n",
      "   0.77396782]\n",
      " ...\n",
      " [ 0.68294712  0.23690557  1.11225116 ... -2.03048927 -0.26872375\n",
      "  -1.74666604]\n",
      " [-1.86522521  0.91790256 -1.16872712 ...  0.10512257 -1.82279724\n",
      "   0.18581992]\n",
      " [-0.59113905 -1.5790864   1.76303386 ... -0.49284875 -0.29420037\n",
      "  -0.40232798]]\n"
     ]
    }
   ],
   "source": [
    "from sklearn.preprocessing import StandardScaler\n",
    "#Create the Scaler\n",
    "scaler = StandardScaler()\n",
    "#Apply the scaler to the normalized data to standardize it\n",
    "scaled = scaler.fit_transform(scaled)\n",
    "#Printing after standardizing\n",
    "print(scaled)\n",
    "scaled_df=pd.DataFrame(scaled)\n",
    "scaled_df.describe()\n",
    "scaled_df.columns=sd.columns\n",
    "scaled_df['OFFENSE']=df['OFFENSE']"
   ]
  },
  {
   "cell_type": "code",
   "execution_count": 65,
   "id": "e4eedc90",
   "metadata": {},
   "outputs": [
    {
     "data": {
      "text/plain": [
       "METHOD                      0\n",
       "DAY                         0\n",
       "BLOCK                       0\n",
       "Day_Week                    0\n",
       "LONGITUDE                   0\n",
       "XBLOCK                      0\n",
       "ANC                         0\n",
       "PSA                         0\n",
       "NEIGHBORHOOD_CLUSTER        0\n",
       "OFFENSE                 31862\n",
       "dtype: int64"
      ]
     },
     "execution_count": 65,
     "metadata": {},
     "output_type": "execute_result"
    }
   ],
   "source": [
    "df=scaled_df\n",
    "df.isnull().sum()"
   ]
  },
  {
   "cell_type": "markdown",
   "id": "14c4a357",
   "metadata": {},
   "source": [
    "> ### After scaling, it will be getting null values so we should fill them with mean values."
   ]
  },
  {
   "cell_type": "code",
   "execution_count": 66,
   "id": "eea16fe3",
   "metadata": {},
   "outputs": [],
   "source": [
    "df['OFFENSE']=df['OFFENSE'].fillna(df['OFFENSE'].mean())"
   ]
  },
  {
   "cell_type": "code",
   "execution_count": 67,
   "id": "262e4aa2",
   "metadata": {
    "scrolled": true
   },
   "outputs": [],
   "source": [
    "df['OFFENSE']=df['OFFENSE'].astype(int)"
   ]
  },
  {
   "cell_type": "code",
   "execution_count": 68,
   "id": "1d48185e",
   "metadata": {},
   "outputs": [
    {
     "data": {
      "text/html": [
       "<div>\n",
       "<style scoped>\n",
       "    .dataframe tbody tr th:only-of-type {\n",
       "        vertical-align: middle;\n",
       "    }\n",
       "\n",
       "    .dataframe tbody tr th {\n",
       "        vertical-align: top;\n",
       "    }\n",
       "\n",
       "    .dataframe thead th {\n",
       "        text-align: right;\n",
       "    }\n",
       "</style>\n",
       "<table border=\"1\" class=\"dataframe\">\n",
       "  <thead>\n",
       "    <tr style=\"text-align: right;\">\n",
       "      <th></th>\n",
       "      <th>METHOD</th>\n",
       "      <th>DAY</th>\n",
       "      <th>BLOCK</th>\n",
       "      <th>Day_Week</th>\n",
       "      <th>LONGITUDE</th>\n",
       "      <th>XBLOCK</th>\n",
       "      <th>ANC</th>\n",
       "      <th>PSA</th>\n",
       "      <th>NEIGHBORHOOD_CLUSTER</th>\n",
       "      <th>OFFENSE</th>\n",
       "    </tr>\n",
       "  </thead>\n",
       "  <tbody>\n",
       "    <tr>\n",
       "      <th>0</th>\n",
       "      <td>0.682947</td>\n",
       "      <td>1.031402</td>\n",
       "      <td>-0.042057</td>\n",
       "      <td>-1.453613</td>\n",
       "      <td>0.771752</td>\n",
       "      <td>0.772180</td>\n",
       "      <td>1.044792</td>\n",
       "      <td>1.224206</td>\n",
       "      <td>1.110052</td>\n",
       "      <td>1</td>\n",
       "    </tr>\n",
       "    <tr>\n",
       "      <th>1</th>\n",
       "      <td>0.682947</td>\n",
       "      <td>-1.238588</td>\n",
       "      <td>0.753824</td>\n",
       "      <td>0.042903</td>\n",
       "      <td>1.535986</td>\n",
       "      <td>1.535693</td>\n",
       "      <td>0.703094</td>\n",
       "      <td>0.709578</td>\n",
       "      <td>0.521904</td>\n",
       "      <td>1</td>\n",
       "    </tr>\n",
       "    <tr>\n",
       "      <th>2</th>\n",
       "      <td>-1.865225</td>\n",
       "      <td>-0.557591</td>\n",
       "      <td>0.529699</td>\n",
       "      <td>-0.455936</td>\n",
       "      <td>1.284653</td>\n",
       "      <td>1.284762</td>\n",
       "      <td>0.873943</td>\n",
       "      <td>0.719769</td>\n",
       "      <td>0.773968</td>\n",
       "      <td>1</td>\n",
       "    </tr>\n",
       "    <tr>\n",
       "      <th>3</th>\n",
       "      <td>0.682947</td>\n",
       "      <td>-0.444091</td>\n",
       "      <td>-1.355714</td>\n",
       "      <td>0.042903</td>\n",
       "      <td>0.236486</td>\n",
       "      <td>0.236271</td>\n",
       "      <td>-0.065726</td>\n",
       "      <td>0.225523</td>\n",
       "      <td>0.017778</td>\n",
       "      <td>3</td>\n",
       "    </tr>\n",
       "    <tr>\n",
       "      <th>4</th>\n",
       "      <td>0.682947</td>\n",
       "      <td>-0.444091</td>\n",
       "      <td>-1.276255</td>\n",
       "      <td>0.042903</td>\n",
       "      <td>0.297958</td>\n",
       "      <td>0.297743</td>\n",
       "      <td>-0.065726</td>\n",
       "      <td>0.225523</td>\n",
       "      <td>0.017778</td>\n",
       "      <td>3</td>\n",
       "    </tr>\n",
       "    <tr>\n",
       "      <th>...</th>\n",
       "      <td>...</td>\n",
       "      <td>...</td>\n",
       "      <td>...</td>\n",
       "      <td>...</td>\n",
       "      <td>...</td>\n",
       "      <td>...</td>\n",
       "      <td>...</td>\n",
       "      <td>...</td>\n",
       "      <td>...</td>\n",
       "      <td>...</td>\n",
       "    </tr>\n",
       "    <tr>\n",
       "      <th>38353</th>\n",
       "      <td>-1.865225</td>\n",
       "      <td>-1.011589</td>\n",
       "      <td>1.217188</td>\n",
       "      <td>-0.954774</td>\n",
       "      <td>1.918838</td>\n",
       "      <td>1.918913</td>\n",
       "      <td>0.617669</td>\n",
       "      <td>0.745246</td>\n",
       "      <td>0.689947</td>\n",
       "      <td>1</td>\n",
       "    </tr>\n",
       "    <tr>\n",
       "      <th>38354</th>\n",
       "      <td>-1.865225</td>\n",
       "      <td>-1.011589</td>\n",
       "      <td>-1.566452</td>\n",
       "      <td>-0.954774</td>\n",
       "      <td>1.213559</td>\n",
       "      <td>1.213703</td>\n",
       "      <td>0.873943</td>\n",
       "      <td>0.719769</td>\n",
       "      <td>0.773968</td>\n",
       "      <td>1</td>\n",
       "    </tr>\n",
       "    <tr>\n",
       "      <th>38355</th>\n",
       "      <td>0.682947</td>\n",
       "      <td>0.236906</td>\n",
       "      <td>1.112251</td>\n",
       "      <td>1.040580</td>\n",
       "      <td>-0.705412</td>\n",
       "      <td>-0.705435</td>\n",
       "      <td>-2.030489</td>\n",
       "      <td>-0.268724</td>\n",
       "      <td>-1.746666</td>\n",
       "      <td>1</td>\n",
       "    </tr>\n",
       "    <tr>\n",
       "      <th>38356</th>\n",
       "      <td>-1.865225</td>\n",
       "      <td>0.917903</td>\n",
       "      <td>-1.168727</td>\n",
       "      <td>0.541741</td>\n",
       "      <td>0.243005</td>\n",
       "      <td>0.242828</td>\n",
       "      <td>0.105123</td>\n",
       "      <td>-1.822797</td>\n",
       "      <td>0.185820</td>\n",
       "      <td>1</td>\n",
       "    </tr>\n",
       "    <tr>\n",
       "      <th>38357</th>\n",
       "      <td>-0.591139</td>\n",
       "      <td>-1.579086</td>\n",
       "      <td>1.763034</td>\n",
       "      <td>1.040580</td>\n",
       "      <td>-0.824366</td>\n",
       "      <td>-0.824265</td>\n",
       "      <td>-0.492849</td>\n",
       "      <td>-0.294200</td>\n",
       "      <td>-0.402328</td>\n",
       "      <td>1</td>\n",
       "    </tr>\n",
       "  </tbody>\n",
       "</table>\n",
       "<p>38358 rows × 10 columns</p>\n",
       "</div>"
      ],
      "text/plain": [
       "         METHOD       DAY     BLOCK  Day_Week  LONGITUDE    XBLOCK       ANC  \\\n",
       "0      0.682947  1.031402 -0.042057 -1.453613   0.771752  0.772180  1.044792   \n",
       "1      0.682947 -1.238588  0.753824  0.042903   1.535986  1.535693  0.703094   \n",
       "2     -1.865225 -0.557591  0.529699 -0.455936   1.284653  1.284762  0.873943   \n",
       "3      0.682947 -0.444091 -1.355714  0.042903   0.236486  0.236271 -0.065726   \n",
       "4      0.682947 -0.444091 -1.276255  0.042903   0.297958  0.297743 -0.065726   \n",
       "...         ...       ...       ...       ...        ...       ...       ...   \n",
       "38353 -1.865225 -1.011589  1.217188 -0.954774   1.918838  1.918913  0.617669   \n",
       "38354 -1.865225 -1.011589 -1.566452 -0.954774   1.213559  1.213703  0.873943   \n",
       "38355  0.682947  0.236906  1.112251  1.040580  -0.705412 -0.705435 -2.030489   \n",
       "38356 -1.865225  0.917903 -1.168727  0.541741   0.243005  0.242828  0.105123   \n",
       "38357 -0.591139 -1.579086  1.763034  1.040580  -0.824366 -0.824265 -0.492849   \n",
       "\n",
       "            PSA  NEIGHBORHOOD_CLUSTER  OFFENSE  \n",
       "0      1.224206              1.110052        1  \n",
       "1      0.709578              0.521904        1  \n",
       "2      0.719769              0.773968        1  \n",
       "3      0.225523              0.017778        3  \n",
       "4      0.225523              0.017778        3  \n",
       "...         ...                   ...      ...  \n",
       "38353  0.745246              0.689947        1  \n",
       "38354  0.719769              0.773968        1  \n",
       "38355 -0.268724             -1.746666        1  \n",
       "38356 -1.822797              0.185820        1  \n",
       "38357 -0.294200             -0.402328        1  \n",
       "\n",
       "[38358 rows x 10 columns]"
      ]
     },
     "execution_count": 68,
     "metadata": {},
     "output_type": "execute_result"
    }
   ],
   "source": [
    "df"
   ]
  },
  {
   "cell_type": "markdown",
   "id": "cb01540f",
   "metadata": {},
   "source": [
    "# Splitting"
   ]
  },
  {
   "cell_type": "markdown",
   "id": "6f51028e",
   "metadata": {},
   "source": [
    "> ## train-test split"
   ]
  },
  {
   "cell_type": "code",
   "execution_count": 69,
   "id": "c5af59f6",
   "metadata": {},
   "outputs": [],
   "source": [
    "from sklearn.model_selection import train_test_split\n",
    "X = df[df.columns.drop('OFFENSE')]\n",
    "y = df['OFFENSE']\n",
    "X_train, X_test, y_train, y_test = train_test_split(X, y, test_size=0.2, random_state=42) #initially splitting it into train and test and then splitting 80%training into train and validation"
   ]
  },
  {
   "cell_type": "code",
   "execution_count": 70,
   "id": "e869a8fd",
   "metadata": {},
   "outputs": [
    {
     "data": {
      "text/html": [
       "<div>\n",
       "<style scoped>\n",
       "    .dataframe tbody tr th:only-of-type {\n",
       "        vertical-align: middle;\n",
       "    }\n",
       "\n",
       "    .dataframe tbody tr th {\n",
       "        vertical-align: top;\n",
       "    }\n",
       "\n",
       "    .dataframe thead th {\n",
       "        text-align: right;\n",
       "    }\n",
       "</style>\n",
       "<table border=\"1\" class=\"dataframe\">\n",
       "  <thead>\n",
       "    <tr style=\"text-align: right;\">\n",
       "      <th></th>\n",
       "      <th>METHOD</th>\n",
       "      <th>DAY</th>\n",
       "      <th>BLOCK</th>\n",
       "      <th>Day_Week</th>\n",
       "      <th>LONGITUDE</th>\n",
       "      <th>XBLOCK</th>\n",
       "      <th>ANC</th>\n",
       "      <th>PSA</th>\n",
       "      <th>NEIGHBORHOOD_CLUSTER</th>\n",
       "    </tr>\n",
       "  </thead>\n",
       "  <tbody>\n",
       "    <tr>\n",
       "      <th>10650</th>\n",
       "      <td>0.682947</td>\n",
       "      <td>0.123406</td>\n",
       "      <td>1.124343</td>\n",
       "      <td>-0.954774</td>\n",
       "      <td>-0.718756</td>\n",
       "      <td>-0.718593</td>\n",
       "      <td>-0.407424</td>\n",
       "      <td>-0.278914</td>\n",
       "      <td>-0.402328</td>\n",
       "    </tr>\n",
       "    <tr>\n",
       "      <th>2331</th>\n",
       "      <td>0.682947</td>\n",
       "      <td>1.258401</td>\n",
       "      <td>0.989177</td>\n",
       "      <td>-1.453613</td>\n",
       "      <td>-0.668586</td>\n",
       "      <td>-0.668470</td>\n",
       "      <td>-0.407424</td>\n",
       "      <td>-0.278914</td>\n",
       "      <td>-0.402328</td>\n",
       "    </tr>\n",
       "    <tr>\n",
       "      <th>35065</th>\n",
       "      <td>-1.865225</td>\n",
       "      <td>0.123406</td>\n",
       "      <td>0.097859</td>\n",
       "      <td>1.539419</td>\n",
       "      <td>1.819938</td>\n",
       "      <td>1.820069</td>\n",
       "      <td>0.617669</td>\n",
       "      <td>0.714674</td>\n",
       "      <td>0.689947</td>\n",
       "    </tr>\n",
       "    <tr>\n",
       "      <th>33136</th>\n",
       "      <td>0.682947</td>\n",
       "      <td>1.598900</td>\n",
       "      <td>-1.263300</td>\n",
       "      <td>0.042903</td>\n",
       "      <td>-0.903907</td>\n",
       "      <td>-0.904011</td>\n",
       "      <td>-1.945065</td>\n",
       "      <td>-0.798637</td>\n",
       "      <td>-1.662645</td>\n",
       "    </tr>\n",
       "    <tr>\n",
       "      <th>32163</th>\n",
       "      <td>0.682947</td>\n",
       "      <td>-1.352087</td>\n",
       "      <td>1.087636</td>\n",
       "      <td>-1.453613</td>\n",
       "      <td>-0.087660</td>\n",
       "      <td>-0.087878</td>\n",
       "      <td>0.019698</td>\n",
       "      <td>0.205141</td>\n",
       "      <td>-0.150265</td>\n",
       "    </tr>\n",
       "    <tr>\n",
       "      <th>...</th>\n",
       "      <td>...</td>\n",
       "      <td>...</td>\n",
       "      <td>...</td>\n",
       "      <td>...</td>\n",
       "      <td>...</td>\n",
       "      <td>...</td>\n",
       "      <td>...</td>\n",
       "      <td>...</td>\n",
       "      <td>...</td>\n",
       "    </tr>\n",
       "    <tr>\n",
       "      <th>6265</th>\n",
       "      <td>0.682947</td>\n",
       "      <td>-1.125088</td>\n",
       "      <td>-0.188019</td>\n",
       "      <td>-0.455936</td>\n",
       "      <td>-0.987454</td>\n",
       "      <td>-0.987493</td>\n",
       "      <td>-1.945065</td>\n",
       "      <td>-0.803733</td>\n",
       "      <td>-1.746666</td>\n",
       "    </tr>\n",
       "    <tr>\n",
       "      <th>11284</th>\n",
       "      <td>-1.865225</td>\n",
       "      <td>-1.352087</td>\n",
       "      <td>1.183937</td>\n",
       "      <td>1.539419</td>\n",
       "      <td>1.885568</td>\n",
       "      <td>1.885926</td>\n",
       "      <td>0.788518</td>\n",
       "      <td>0.724864</td>\n",
       "      <td>0.857989</td>\n",
       "    </tr>\n",
       "    <tr>\n",
       "      <th>38158</th>\n",
       "      <td>0.682947</td>\n",
       "      <td>0.123406</td>\n",
       "      <td>0.580656</td>\n",
       "      <td>-0.455936</td>\n",
       "      <td>2.280917</td>\n",
       "      <td>2.281108</td>\n",
       "      <td>0.617669</td>\n",
       "      <td>0.745246</td>\n",
       "      <td>0.689947</td>\n",
       "    </tr>\n",
       "    <tr>\n",
       "      <th>860</th>\n",
       "      <td>0.682947</td>\n",
       "      <td>-0.103593</td>\n",
       "      <td>-0.340458</td>\n",
       "      <td>1.539419</td>\n",
       "      <td>-0.282748</td>\n",
       "      <td>-0.282930</td>\n",
       "      <td>0.019698</td>\n",
       "      <td>0.205141</td>\n",
       "      <td>-0.150265</td>\n",
       "    </tr>\n",
       "    <tr>\n",
       "      <th>15795</th>\n",
       "      <td>0.682947</td>\n",
       "      <td>0.463905</td>\n",
       "      <td>1.503498</td>\n",
       "      <td>0.541741</td>\n",
       "      <td>-0.855236</td>\n",
       "      <td>-0.854777</td>\n",
       "      <td>-0.663698</td>\n",
       "      <td>-0.309486</td>\n",
       "      <td>-0.486349</td>\n",
       "    </tr>\n",
       "  </tbody>\n",
       "</table>\n",
       "<p>30686 rows × 9 columns</p>\n",
       "</div>"
      ],
      "text/plain": [
       "         METHOD       DAY     BLOCK  Day_Week  LONGITUDE    XBLOCK       ANC  \\\n",
       "10650  0.682947  0.123406  1.124343 -0.954774  -0.718756 -0.718593 -0.407424   \n",
       "2331   0.682947  1.258401  0.989177 -1.453613  -0.668586 -0.668470 -0.407424   \n",
       "35065 -1.865225  0.123406  0.097859  1.539419   1.819938  1.820069  0.617669   \n",
       "33136  0.682947  1.598900 -1.263300  0.042903  -0.903907 -0.904011 -1.945065   \n",
       "32163  0.682947 -1.352087  1.087636 -1.453613  -0.087660 -0.087878  0.019698   \n",
       "...         ...       ...       ...       ...        ...       ...       ...   \n",
       "6265   0.682947 -1.125088 -0.188019 -0.455936  -0.987454 -0.987493 -1.945065   \n",
       "11284 -1.865225 -1.352087  1.183937  1.539419   1.885568  1.885926  0.788518   \n",
       "38158  0.682947  0.123406  0.580656 -0.455936   2.280917  2.281108  0.617669   \n",
       "860    0.682947 -0.103593 -0.340458  1.539419  -0.282748 -0.282930  0.019698   \n",
       "15795  0.682947  0.463905  1.503498  0.541741  -0.855236 -0.854777 -0.663698   \n",
       "\n",
       "            PSA  NEIGHBORHOOD_CLUSTER  \n",
       "10650 -0.278914             -0.402328  \n",
       "2331  -0.278914             -0.402328  \n",
       "35065  0.714674              0.689947  \n",
       "33136 -0.798637             -1.662645  \n",
       "32163  0.205141             -0.150265  \n",
       "...         ...                   ...  \n",
       "6265  -0.803733             -1.746666  \n",
       "11284  0.724864              0.857989  \n",
       "38158  0.745246              0.689947  \n",
       "860    0.205141             -0.150265  \n",
       "15795 -0.309486             -0.486349  \n",
       "\n",
       "[30686 rows x 9 columns]"
      ]
     },
     "execution_count": 70,
     "metadata": {},
     "output_type": "execute_result"
    }
   ],
   "source": [
    "X_train"
   ]
  },
  {
   "cell_type": "code",
   "execution_count": 71,
   "id": "f6c9acf3",
   "metadata": {},
   "outputs": [],
   "source": [
    "from sklearn.model_selection import cross_val_score\n",
    "accuracies = []\n",
    "KFold_accuracies = []"
   ]
  },
  {
   "cell_type": "markdown",
   "id": "50deaea3",
   "metadata": {},
   "source": [
    "# Models"
   ]
  },
  {
   "cell_type": "markdown",
   "id": "f291ebb8",
   "metadata": {},
   "source": [
    "# LOGISTIC REGRESSION"
   ]
  },
  {
   "cell_type": "code",
   "execution_count": 72,
   "id": "e1d6845a",
   "metadata": {},
   "outputs": [
    {
     "name": "stdout",
     "output_type": "stream",
     "text": [
      "accuracy of logistic regression for test =  0.8897288842544318\n",
      "RMSE : 0.3459131271774776\n"
     ]
    },
    {
     "name": "stderr",
     "output_type": "stream",
     "text": [
      "C:\\Users\\91938\\Documents\\sample_project_1\\env\\lib\\site-packages\\sklearn\\linear_model\\_logistic.py:814: ConvergenceWarning: lbfgs failed to converge (status=1):\n",
      "STOP: TOTAL NO. of ITERATIONS REACHED LIMIT.\n",
      "\n",
      "Increase the number of iterations (max_iter) or scale the data as shown in:\n",
      "    https://scikit-learn.org/stable/modules/preprocessing.html\n",
      "Please also refer to the documentation for alternative solver options:\n",
      "    https://scikit-learn.org/stable/modules/linear_model.html#logistic-regression\n",
      "  n_iter_i = _check_optimize_result(\n"
     ]
    }
   ],
   "source": [
    "from sklearn.linear_model import LogisticRegression\n",
    "from sklearn import metrics\n",
    "model=LogisticRegression()\n",
    "model.fit(X_train,y_train)\n",
    "lr_pred=model.predict(X_test)\n",
    "accuracy_lr_test=metrics.accuracy_score(lr_pred,y_test)\n",
    "print(\"accuracy of logistic regression for test = \",metrics.accuracy_score(lr_pred,y_test))\n",
    "rmse = np.sqrt(mean_squared_error(y_test,lr_pred))\n",
    "print(\"RMSE :\",rmse)"
   ]
  },
  {
   "cell_type": "code",
   "execution_count": 76,
   "id": "1c45a87b",
   "metadata": {},
   "outputs": [
    {
     "name": "stderr",
     "output_type": "stream",
     "text": [
      "C:\\Users\\91938\\Documents\\sample_project_1\\env\\lib\\site-packages\\sklearn\\metrics\\_classification.py:1318: UndefinedMetricWarning: Precision and F-score are ill-defined and being set to 0.0 in labels with no predicted samples. Use `zero_division` parameter to control this behavior.\n",
      "  _warn_prf(average, modifier, msg_start, len(result))\n",
      "C:\\Users\\91938\\Documents\\sample_project_1\\env\\lib\\site-packages\\sklearn\\metrics\\_classification.py:1318: UndefinedMetricWarning: Precision and F-score are ill-defined and being set to 0.0 in labels with no predicted samples. Use `zero_division` parameter to control this behavior.\n",
      "  _warn_prf(average, modifier, msg_start, len(result))\n",
      "C:\\Users\\91938\\Documents\\sample_project_1\\env\\lib\\site-packages\\sklearn\\metrics\\_classification.py:1318: UndefinedMetricWarning: Precision and F-score are ill-defined and being set to 0.0 in labels with no predicted samples. Use `zero_division` parameter to control this behavior.\n",
      "  _warn_prf(average, modifier, msg_start, len(result))\n"
     ]
    },
    {
     "name": "stdout",
     "output_type": "stream",
     "text": [
      "              precision    recall  f1-score   support\n",
      "\n",
      "           0       0.00      0.00      0.00         7\n",
      "           1       0.89      1.00      0.94      6826\n",
      "           2       0.00      0.00      0.00       815\n",
      "           3       0.00      0.00      0.00        24\n",
      "\n",
      "    accuracy                           0.89      7672\n",
      "   macro avg       0.22      0.25      0.24      7672\n",
      "weighted avg       0.79      0.89      0.84      7672\n",
      "\n"
     ]
    },
    {
     "name": "stderr",
     "output_type": "stream",
     "text": [
      "C:\\Users\\91938\\Documents\\sample_project_1\\env\\lib\\site-packages\\sklearn\\linear_model\\_logistic.py:814: ConvergenceWarning: lbfgs failed to converge (status=1):\n",
      "STOP: TOTAL NO. of ITERATIONS REACHED LIMIT.\n",
      "\n",
      "Increase the number of iterations (max_iter) or scale the data as shown in:\n",
      "    https://scikit-learn.org/stable/modules/preprocessing.html\n",
      "Please also refer to the documentation for alternative solver options:\n",
      "    https://scikit-learn.org/stable/modules/linear_model.html#logistic-regression\n",
      "  n_iter_i = _check_optimize_result(\n",
      "C:\\Users\\91938\\Documents\\sample_project_1\\env\\lib\\site-packages\\sklearn\\linear_model\\_logistic.py:814: ConvergenceWarning: lbfgs failed to converge (status=1):\n",
      "STOP: TOTAL NO. of ITERATIONS REACHED LIMIT.\n",
      "\n",
      "Increase the number of iterations (max_iter) or scale the data as shown in:\n",
      "    https://scikit-learn.org/stable/modules/preprocessing.html\n",
      "Please also refer to the documentation for alternative solver options:\n",
      "    https://scikit-learn.org/stable/modules/linear_model.html#logistic-regression\n",
      "  n_iter_i = _check_optimize_result(\n",
      "C:\\Users\\91938\\Documents\\sample_project_1\\env\\lib\\site-packages\\sklearn\\linear_model\\_logistic.py:814: ConvergenceWarning: lbfgs failed to converge (status=1):\n",
      "STOP: TOTAL NO. of ITERATIONS REACHED LIMIT.\n",
      "\n",
      "Increase the number of iterations (max_iter) or scale the data as shown in:\n",
      "    https://scikit-learn.org/stable/modules/preprocessing.html\n",
      "Please also refer to the documentation for alternative solver options:\n",
      "    https://scikit-learn.org/stable/modules/linear_model.html#logistic-regression\n",
      "  n_iter_i = _check_optimize_result(\n"
     ]
    }
   ],
   "source": [
    "# summarize the fit of the model\n",
    "from sklearn.model_selection import KFold\n",
    "expected = y_test\n",
    "predicted = model.predict(X_test)\n",
    "print(metrics.classification_report(expected, predicted)) \n",
    "cm = metrics.confusion_matrix(expected, predicted)\n",
    "\n",
    "accuracies.append(metrics.accuracy_score(expected, predicted))\n",
    "\n",
    "k = 5\n",
    "kf = KFold(n_splits=k, random_state=None)\n",
    "result = cross_val_score(model , X, y, cv = kf)\n",
    "\n",
    "KFold_accuracies.append(result.mean()*100)"
   ]
  },
  {
   "cell_type": "markdown",
   "id": "cde917b4",
   "metadata": {},
   "source": [
    "## Accuracy\n",
    "> With normal model = 0.88 and with Kfold = 0.89.\n",
    "So by this Kfold has more accuracy."
   ]
  },
  {
   "cell_type": "markdown",
   "id": "6d6af115",
   "metadata": {},
   "source": [
    "# **KNN**"
   ]
  },
  {
   "cell_type": "code",
   "execution_count": 77,
   "id": "05947ff6",
   "metadata": {},
   "outputs": [],
   "source": [
    "from sklearn.neighbors import KNeighborsClassifier\n",
    "from sklearn import metrics\n",
    "from mlxtend.plotting import plot_confusion_matrix\n",
    "import matplotlib.pyplot as plt"
   ]
  },
  {
   "cell_type": "code",
   "execution_count": 78,
   "id": "361fad61",
   "metadata": {},
   "outputs": [],
   "source": [
    "from sklearn.neighbors import KNeighborsClassifier\n",
    "KNN_Classifier = KNeighborsClassifier(n_neighbors=5)\n",
    "KNN_Classifier.fit(X_train, y_train)\n",
    "expected = y_test\n",
    "predicted = KNN_Classifier.predict(X_test)"
   ]
  },
  {
   "cell_type": "code",
   "execution_count": 79,
   "id": "7073b742",
   "metadata": {},
   "outputs": [
    {
     "data": {
      "image/png": "[encoded data removed]",
      "text/plain": [
       "<Figure size 360x360 with 2 Axes>"
      ]
     },
     "metadata": {
      "needs_background": "light"
     },
     "output_type": "display_data"
    }
   ],
   "source": [
    "cm=metrics.confusion_matrix(expected, predicted)\n",
    "fig = plot_confusion_matrix(conf_mat=cm, figsize=(5,5),show_absolute=True,colorbar=True)\n",
    "plt.show()"
   ]
  },
  {
   "cell_type": "code",
   "execution_count": 80,
   "id": "bf0e87a8",
   "metadata": {},
   "outputs": [
    {
     "name": "stdout",
     "output_type": "stream",
     "text": [
      "Accuracy of KNN : 0.8820385818561001\n",
      "Precision of KNN : 0.24023283346487764\n",
      "Recall of KNN : 0.24918976342709848\n",
      "F1 of KNN : 0.23716087206451983\n"
     ]
    },
    {
     "name": "stderr",
     "output_type": "stream",
     "text": [
      "C:\\Users\\91938\\Documents\\sample_project_1\\env\\lib\\site-packages\\sklearn\\metrics\\_classification.py:1318: UndefinedMetricWarning: Precision is ill-defined and being set to 0.0 in labels with no predicted samples. Use `zero_division` parameter to control this behavior.\n",
      "  _warn_prf(average, modifier, msg_start, len(result))\n"
     ]
    }
   ],
   "source": [
    "from sklearn.neighbors import KNeighborsClassifier\n",
    "from sklearn.metrics import accuracy_score, precision_score, recall_score, f1_score, confusion_matrix\n",
    "accuracy_knn = accuracy_score(y_test, predicted ) # Calculating accuracy of prediction\n",
    "precision_knn = precision_score(y_test, predicted , average='macro') # Calculation of precision\n",
    "recall = recall_score(y_test,predicted, average='macro') # Calculation of recall\n",
    "f1 = f1_score(y_test,predicted, average='macro') # Calculation of F1-score\n",
    "print(\"Accuracy of KNN :\", accuracy_knn)\n",
    "print(\"Precision of KNN :\", precision_knn)\n",
    "print(\"Recall of KNN :\", recall)\n",
    "print(\"F1 of KNN :\", f1)"
   ]
  }
 ],
 "metadata": {
  "kernelspec": {
   "display_name": "Python 3 (ipykernel)",
   "language": "python",
   "name": "python3"
  },
  "language_info": {
   "codemirror_mode": {
    "name": "ipython",
    "version": 3
   },
   "file_extension": ".py",
   "mimetype": "text/x-python",
   "name": "python",
   "nbconvert_exporter": "python",
   "pygments_lexer": "ipython3",
   "version": "3.9.12"
  }
 },
 "nbformat": 4,
 "nbformat_minor": 5
}
